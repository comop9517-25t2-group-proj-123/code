{
  "cells": [
    {
      "cell_type": "code",
      "execution_count": 12,
      "metadata": {
        "id": "feVg0-b3rhXF"
      },
      "outputs": [],
      "source": [
        "import matplotlib.pyplot as plt\n",
        "import kagglehub\n",
        "import numpy as np\n",
        "import cv2\n",
        "\n",
        "from sklearn.model_selection import train_test_split\n",
        "from sklearn.ensemble import RandomForestClassifier\n",
        "from sklearn.metrics import classification_report, precision_recall_fscore_support\n",
        "from skimage.morphology import opening, closing, disk\n",
        "from skimage.measure import label, regionprops\n",
        "\n",
        "from xgboost import XGBClassifier\n",
        "from lightgbm import LGBMClassifier\n",
        "from collections import Counter\n",
        "from glob import glob\n",
        "\n",
        "import warnings\n",
        "warnings.filterwarnings('ignore')\n"
      ]
    },
    {
      "cell_type": "code",
      "execution_count": 2,
      "metadata": {
        "id": "Pt4og_0Zrn0F"
      },
      "outputs": [],
      "source": [
        "path = kagglehub.dataset_download(\"meteahishali/aerial-imagery-for-standing-dead-tree-segmentation\")\n",
        "ROOT_DIR = path + '/USA_segmentation'\n",
        "\n",
        "MASKS_ROOT_DIR = f'{ROOT_DIR}/masks'\n",
        "NRG_IMAGES_ROOT_DIR = f'{ROOT_DIR}/NRG_images'\n",
        "RGB_IMAGES_ROOT_DIR = f'{ROOT_DIR}/RGB_images'\n",
        "\n",
        "rgb_paths = sorted(glob(f'{RGB_IMAGES_ROOT_DIR}/*.png'))[:]\n",
        "nrg_paths = sorted(glob(f'{NRG_IMAGES_ROOT_DIR}/*.png'))[:]\n",
        "mask_paths = sorted(glob(f'{MASKS_ROOT_DIR}/*.png'))[:]"
      ]
    },
    {
      "cell_type": "markdown",
      "metadata": {
        "id": "vDO0ZfTuNHrX"
      },
      "source": [
        "# Data Preprocessing and Feature Engineering"
      ]
    },
    {
      "cell_type": "markdown",
      "metadata": {
        "id": "2-Mx42Y8VyCc"
      },
      "source": [
        "## Dataset Analysis Function: Stratified split for train (80%) and test (20%) set"
      ]
    },
    {
      "cell_type": "code",
      "execution_count": 23,
      "metadata": {
        "id": "iGQTaSc7Vs6i"
      },
      "outputs": [],
      "source": [
        "def calculate_image_dead_tree_proportions(rgb_paths, nrg_paths, mask_paths, downsample=2):\n",
        "    \"\"\"\n",
        "    Calculate the proportion of dead tree pixels in each image for stratification.\n",
        "    This helps us understand the 'difficulty' and 'type' of each image.\n",
        "    \"\"\"\n",
        "    proportions = []\n",
        "    image_stats = []\n",
        "\n",
        "    print(\"Analyzing dead tree proportions across all images...\")\n",
        "\n",
        "    for i in range(len(rgb_paths)):\n",
        "        # Load and downsample mask\n",
        "        msk = cv2.imread(mask_paths[i], cv2.IMREAD_GRAYSCALE)[::downsample, ::downsample]\n",
        "\n",
        "        # Calculate statistics\n",
        "        dead_pixels = np.sum(msk > 127)\n",
        "        total_pixels = msk.size\n",
        "        proportion = dead_pixels / total_pixels\n",
        "\n",
        "        proportions.append(proportion)\n",
        "        image_stats.append({\n",
        "            'image_idx': i,\n",
        "            'dead_pixels': dead_pixels,\n",
        "            'total_pixels': total_pixels,\n",
        "            'proportion': proportion\n",
        "        })\n",
        "\n",
        "\n",
        "    proportions = np.array(proportions)\n",
        "\n",
        "    # Print summary statistics\n",
        "    print(f\"\\nDataset Dead Tree Distribution Summary:\")\n",
        "    print(f\"  Mean dead tree %: {np.mean(proportions)*100:.2f}%\")\n",
        "    print(f\"  Median dead tree %: {np.median(proportions)*100:.2f}%\")\n",
        "    print(f\"  Min dead tree %: {np.min(proportions)*100:.2f}%\")\n",
        "    print(f\"  Max dead tree %: {np.max(proportions)*100:.2f}%\")\n",
        "    print(f\"  Std dev: {np.std(proportions)*100:.2f}%\")\n",
        "\n",
        "    return proportions, image_stats\n",
        "\n",
        "def create_stratification_bins(proportions):\n",
        "    bins = np.digitize(proportions, bins=[0.05])\n",
        "    bin_names = ['Healthy (0-5%)', 'Stressed (5%+)']\n",
        "\n",
        "    return bins"
      ]
    },
    {
      "cell_type": "markdown",
      "metadata": {
        "id": "r0y0sshaWWOi"
      },
      "source": [
        "## Image processing function"
      ]
    },
    {
      "cell_type": "code",
      "execution_count": 24,
      "metadata": {
        "id": "M3rqPNVgWSXt"
      },
      "outputs": [],
      "source": [
        "def merge_rgb_nrg_to_4band(rgb_path, nrg_path, downsample=1):\n",
        "    \"\"\"\n",
        "    Merge RGB and NRG images to create a 4-band multispectral image.\n",
        "    \"\"\"\n",
        "    rgb_img = cv2.imread(rgb_path)[::downsample, ::downsample]\n",
        "    nrg_img = cv2.imread(nrg_path)[::downsample, ::downsample]\n",
        "\n",
        "    if rgb_img.shape[:2] != nrg_img.shape[:2]:\n",
        "        raise ValueError(f\"Image dimensions don't match: RGB {rgb_img.shape[:2]} vs NRG {nrg_img.shape[:2]}\")\n",
        "\n",
        "    # Extract channels\n",
        "    NIR = nrg_img[..., 0].astype(np.float32)\n",
        "    B = rgb_img[..., 0].astype(np.float32)  # Blue\n",
        "    G = rgb_img[..., 1].astype(np.float32)  # Green\n",
        "    R = rgb_img[..., 2].astype(np.float32)  # Red\n",
        "\n",
        "    # Create 4-band image: [NIR, R, G, B]\n",
        "    four_band = np.stack([NIR, R, G, B], axis=-1)\n",
        "    return four_band"
      ]
    },
    {
      "cell_type": "markdown",
      "metadata": {
        "id": "FFzVpb4IWuiS"
      },
      "source": [
        "## Pixel Extraction and Rebalancing Functions"
      ]
    },
    {
      "cell_type": "code",
      "execution_count": 25,
      "metadata": {
        "id": "LZ2KPUPaWpuC"
      },
      "outputs": [],
      "source": [
        "import numpy as np\n",
        "import cv2\n",
        "\n",
        "def extract_features_8band(four_band_image: np.ndarray) -> np.ndarray:\n",
        "    \"\"\"\n",
        "    Enhanced feature extraction with all 8 features\n",
        "    Args:\n",
        "        four_band_image: numpy array (H, W, 4) in [NIR, R, G, B] order\n",
        "    Returns:\n",
        "        Feature array (H, W, 8)\n",
        "    \"\"\"\n",
        "    # Normalize to [0,1] and clip to valid range\n",
        "    NIR = np.clip(four_band_image[..., 0] / 255.0, 0, 1)\n",
        "    R   = np.clip(four_band_image[..., 1] / 255.0, 0, 1)\n",
        "    G   = np.clip(four_band_image[..., 2] / 255.0, 0, 1)\n",
        "    B   = np.clip(four_band_image[..., 3] / 255.0, 0, 1)\n",
        "\n",
        "    # Basic bands\n",
        "    features = [R, G, B, NIR]\n",
        "\n",
        "    # Vegetation indices with NaN protection\n",
        "    # NDVI\n",
        "    ndvi_denom = NIR + R + 1e-8\n",
        "    NDVI = np.where(ndvi_denom > 0, (NIR - R) / ndvi_denom, 0)\n",
        "\n",
        "    # EVI - more complex, needs careful handling\n",
        "    evi_denom = NIR + 6 * R - 7.5 * B + 1\n",
        "    EVI = np.where(evi_denom != 0, 2.5 * (NIR - R) / evi_denom, 0)\n",
        "    EVI = np.clip(EVI, -1, 1)  # EVI typically ranges from -1 to 1\n",
        "\n",
        "    # SAVI\n",
        "    savi_denom = NIR + R + 0.5\n",
        "    SAVI = np.where(savi_denom > 0, 1.5 * (NIR - R) / savi_denom, 0)\n",
        "\n",
        "    # GNDVI\n",
        "    gndvi_denom = NIR + G + 1e-8\n",
        "    GNDVI = np.where(gndvi_denom > 0, (NIR - G) / gndvi_denom, 0)\n",
        "\n",
        "    features.extend([NDVI, EVI, SAVI, GNDVI])\n",
        "\n",
        "    # Stack and ensure no NaN/inf values\n",
        "    result = np.stack(features, axis=-1).astype(np.float32)\n",
        "    result = np.nan_to_num(result, nan=0.0, posinf=1.0, neginf=-1.0)\n",
        "\n",
        "    return result\n",
        "\n",
        "\n",
        "def extract_pixels_with_rebalancing(train_idx, rgb_paths, nrg_paths, mask_paths,\n",
        "                                   downsample=2, target_dead_ratio=0.3,\n",
        "                                   max_total_pixels=1000000):\n",
        "    \"\"\"\n",
        "    Extract pixels from training images and rebalance classes.\n",
        "    Now uses all 8 features (R, G, B, NIR, NDVI, EVI, SAVI, GNDVI).\n",
        "    Works with stratified image indices.\n",
        "    \"\"\"\n",
        "\n",
        "    print(\"Phase 1: Extracting all pixels from stratified training images...\")\n",
        "    print(\"Features: R, G, B, NIR, NDVI, EVI, SAVI, GNDVI (8 features)\")\n",
        "\n",
        "    all_features = []\n",
        "    all_labels = []\n",
        "    image_sources = []\n",
        "\n",
        "    # Extract pixels from all training images\n",
        "    for img_idx, i in enumerate(train_idx):\n",
        "        four_band = merge_rgb_nrg_to_4band(rgb_paths[i], nrg_paths[i], downsample)\n",
        "        msk = cv2.imread(mask_paths[i], cv2.IMREAD_GRAYSCALE)[::downsample, ::downsample]\n",
        "\n",
        "        # Extract all 8 spectral features using enhanced method\n",
        "        features_8band = extract_features_8band(four_band)  # Shape: (H, W, 8)\n",
        "\n",
        "        # Flatten to pixel-level features\n",
        "        pix_feat = features_8band.reshape(-1, 8)  # Now 8 features instead of 5\n",
        "        pix_lbl = (msk.reshape(-1) > 127).astype(int)\n",
        "        pixel_sources = np.full(len(pix_lbl), img_idx)\n",
        "\n",
        "        all_features.append(pix_feat)\n",
        "        all_labels.append(pix_lbl)\n",
        "        image_sources.append(pixel_sources)\n",
        "\n",
        "        # Progress reporting\n",
        "        dead_count = np.sum(pix_lbl == 1)\n",
        "        total_count = len(pix_lbl)\n",
        "\n",
        "        if img_idx % 10 == 0 or img_idx == len(train_idx) - 1:\n",
        "            print(f\"  Image {img_idx+1}/{len(train_idx)}: {total_count:,} pixels, \"\n",
        "                  f\"{dead_count:,} dead ({dead_count/total_count*100:.2f}%)\")\n",
        "\n",
        "    # Concatenate all pixels\n",
        "    X_all = np.vstack(all_features)\n",
        "    y_all = np.concatenate(all_labels)\n",
        "    sources_all = np.concatenate(image_sources)\n",
        "\n",
        "    print(f\"\\nPhase 2: Class rebalancing within training set...\")\n",
        "    dead_pixels = np.sum(y_all == 1)\n",
        "    total_pixels = len(y_all)\n",
        "    print(f\"Raw training pixels: {total_pixels:,}\")\n",
        "    print(f\"Dead tree pixels: {dead_pixels:,} ({dead_pixels/total_pixels*100:.2f}%)\")\n",
        "    print(f\"Background pixels: {total_pixels - dead_pixels:,}\")\n",
        "\n",
        "    # Apply rebalancing strategy\n",
        "    dead_mask = (y_all == 1)\n",
        "    background_mask = (y_all == 0)\n",
        "\n",
        "    dead_indices = np.where(dead_mask)[0]\n",
        "    background_indices = np.where(background_mask)[0]\n",
        "\n",
        "    # Calculate target sample sizes\n",
        "    max_dead_pixels = len(dead_indices)\n",
        "    target_dead_pixels = min(max_dead_pixels, int(max_total_pixels * target_dead_ratio))\n",
        "    target_background_pixels = min(len(background_indices), max_total_pixels - target_dead_pixels)\n",
        "\n",
        "    print(f\"Target dead tree pixels: {target_dead_pixels:,}\")\n",
        "    print(f\"Target background pixels: {target_background_pixels:,}\")\n",
        "\n",
        "    # Sample pixels\n",
        "    if len(dead_indices) <= target_dead_pixels:\n",
        "        sampled_dead_indices = dead_indices\n",
        "        print(f\"Using all {len(dead_indices):,} available dead tree pixels\")\n",
        "    else:\n",
        "        sampled_dead_indices = np.random.choice(dead_indices, size=target_dead_pixels, replace=False)\n",
        "        print(f\"Randomly sampled {target_dead_pixels:,} dead tree pixels\")\n",
        "\n",
        "    sampled_background_indices = np.random.choice(background_indices, size=target_background_pixels, replace=False)\n",
        "    print(f\"Randomly sampled {target_background_pixels:,} background pixels\")\n",
        "\n",
        "    # Combine and shuffle\n",
        "    final_indices = np.concatenate([sampled_dead_indices, sampled_background_indices])\n",
        "    shuffle_indices = np.random.permutation(len(final_indices))\n",
        "\n",
        "    X_balanced = X_all[final_indices[shuffle_indices]]\n",
        "    y_balanced = y_all[final_indices[shuffle_indices]]\n",
        "\n",
        "    print(f\"\\nFinal rebalanced training set:\")\n",
        "    final_dead = np.sum(y_balanced == 1)\n",
        "    final_total = len(y_balanced)\n",
        "    print(f\"Total pixels: {final_total:,}\")\n",
        "    print(f\"Dead tree pixels: {final_dead:,} ({final_dead/final_total*100:.1f}%)\")\n",
        "    print(f\"Background pixels: {final_total - final_dead:,} ({(final_total - final_dead)/final_total*100:.1f}%)\")\n",
        "    print(f\"Feature dimensions: {X_balanced.shape}\")\n",
        "\n",
        "    return X_balanced, y_balanced, msk\n",
        "\n",
        "\n",
        "def extract_pixels(idxs, rgb_paths, nrg_paths, mask_paths, downsample=2):\n",
        "    \"\"\"\n",
        "    Extract pixels maintaining natural class distribution (for test set).\n",
        "    Now uses all 8 features (R, G, B, NIR, NDVI, EVI, SAVI, GNDVI).\n",
        "    \"\"\"\n",
        "    features = []\n",
        "    labels = []\n",
        "\n",
        "    print(\"Extracting test pixels with natural class distribution...\")\n",
        "    print(\"Features: R, G, B, NIR, NDVI, EVI, SAVI, GNDVI (8 features)\")\n",
        "\n",
        "    for img_idx, i in enumerate(idxs):\n",
        "        four_band = merge_rgb_nrg_to_4band(rgb_paths[i], nrg_paths[i], downsample)\n",
        "        msk = cv2.imread(mask_paths[i], cv2.IMREAD_GRAYSCALE)[::downsample, ::downsample]\n",
        "\n",
        "        # Extract all 8 spectral features using enhanced method\n",
        "        features_8band = extract_features_8band(four_band)  # Shape: (H, W, 8)\n",
        "\n",
        "        # Flatten to pixel-level features\n",
        "        pix_feat = features_8band.reshape(-1, 8)  # Now 8 features instead of 5\n",
        "        pix_lbl = (msk.reshape(-1) > 127).astype(int)\n",
        "\n",
        "        features.append(pix_feat)\n",
        "        labels.append(pix_lbl)\n",
        "\n",
        "        # Progress reporting\n",
        "        if img_idx % 5 == 0 or img_idx == len(idxs) - 1:\n",
        "            dead_count = np.sum(pix_lbl == 1)\n",
        "            total_count = len(pix_lbl)\n",
        "            print(f\"  Image {img_idx+1}/{len(idxs)}: {total_count:,} pixels, \"\n",
        "                  f\"{dead_count:,} dead ({dead_count/total_count*100:.2f}%)\")\n",
        "\n",
        "    X = np.vstack(features)\n",
        "    y = np.concatenate(labels)\n",
        "\n",
        "    print(f\"\\nTest set summary:\")\n",
        "    print(f\"Total pixels: {len(y):,}\")\n",
        "    print(f\"Dead tree pixels: {np.sum(y==1):,} ({np.sum(y==1)/len(y)*100:.2f}%)\")\n",
        "    print(f\"Background pixels: {np.sum(y==0):,} ({np.sum(y==0)/len(y)*100:.2f}%)\")\n",
        "    print(f\"Feature dimensions: {X.shape}\")\n",
        "\n",
        "    return X, y"
      ]
    },
    {
      "cell_type": "code",
      "execution_count": 26,
      "metadata": {
        "colab": {
          "base_uri": "https://localhost:8080/"
        },
        "id": "AJ2VaL0CXD-K",
        "outputId": "e9fcf8f7-80c5-4a5c-a6dd-2d13488ba616"
      },
      "outputs": [
        {
          "output_type": "stream",
          "name": "stdout",
          "text": [
            "Analyzing dead tree proportions across all images...\n",
            "\n",
            "Dataset Dead Tree Distribution Summary:\n",
            "  Mean dead tree %: 1.88%\n",
            "  Median dead tree %: 1.33%\n",
            "  Min dead tree %: 0.00%\n",
            "  Max dead tree %: 12.63%\n",
            "  Std dev: 1.77%\n"
          ]
        }
      ],
      "source": [
        "# Calculate dead tree proportions for each image\n",
        "proportions, image_stats = calculate_image_dead_tree_proportions(\n",
        "    rgb_paths, nrg_paths, mask_paths, downsample=2\n",
        ")\n",
        "\n",
        "# Create stratification bins (try 'adaptive', 'quantile', or 'fixed')\n",
        "stratification_bins = create_stratification_bins(proportions)"
      ]
    },
    {
      "cell_type": "code",
      "execution_count": 27,
      "metadata": {
        "colab": {
          "base_uri": "https://localhost:8080/"
        },
        "id": "cpaelKzoXMDE",
        "outputId": "486723a0-857e-464a-805c-4d7d7db95f9e"
      },
      "outputs": [
        {
          "output_type": "stream",
          "name": "stdout",
          "text": [
            "\n",
            "Image-level stratified split:\n",
            "Training images: 355\n",
            "Test images: 89\n",
            "\n",
            "Stratification verification:\n",
            "  Bin 0: Train=333, Test=83, Train%=80.0%\n",
            "  Bin 1: Train=22, Test=6, Train%=78.6%\n"
          ]
        }
      ],
      "source": [
        "# Stratified train-test split at image level\n",
        "all_indices = np.arange(len(rgb_paths))\n",
        "train_idx, test_idx = train_test_split(\n",
        "    all_indices,\n",
        "    test_size=0.20,\n",
        "    random_state=42,\n",
        "    stratify=stratification_bins\n",
        ")\n",
        "\n",
        "print(f\"\\nImage-level stratified split:\")\n",
        "print(f\"Training images: {len(train_idx)}\")\n",
        "print(f\"Test images: {len(test_idx)}\")\n",
        "\n",
        "# Verify stratification worked\n",
        "print(f\"\\nStratification verification:\")\n",
        "for bin_val in np.unique(stratification_bins):\n",
        "    train_count = np.sum(stratification_bins[train_idx] == bin_val)\n",
        "    test_count = np.sum(stratification_bins[test_idx] == bin_val)\n",
        "    total_count = np.sum(stratification_bins == bin_val)\n",
        "    print(f\"  Bin {bin_val}: Train={train_count}, Test={test_count}, \"\n",
        "          f\"Train%={train_count/total_count*100:.1f}%\")"
      ]
    },
    {
      "cell_type": "code",
      "execution_count": 28,
      "metadata": {
        "colab": {
          "base_uri": "https://localhost:8080/"
        },
        "id": "ktZbJbDTXSCx",
        "outputId": "382b04aa-d393-4cc1-dcf0-41ab3aa0b282"
      },
      "outputs": [
        {
          "output_type": "stream",
          "name": "stdout",
          "text": [
            "Phase 1: Extracting all pixels from stratified training images...\n",
            "Features: R, G, B, NIR, NDVI, EVI, SAVI, GNDVI (8 features)\n",
            "  Image 1/355: 39,999 pixels, 402 dead (1.01%)\n",
            "  Image 11/355: 54,056 pixels, 274 dead (0.51%)\n",
            "  Image 21/355: 42,435 pixels, 1,461 dead (3.44%)\n",
            "  Image 31/355: 30,624 pixels, 1,446 dead (4.72%)\n",
            "  Image 41/355: 29,736 pixels, 205 dead (0.69%)\n",
            "  Image 51/355: 35,696 pixels, 176 dead (0.49%)\n",
            "  Image 61/355: 33,440 pixels, 195 dead (0.58%)\n",
            "  Image 71/355: 34,595 pixels, 294 dead (0.85%)\n",
            "  Image 81/355: 41,989 pixels, 544 dead (1.30%)\n",
            "  Image 91/355: 47,740 pixels, 3,413 dead (7.15%)\n",
            "  Image 101/355: 31,842 pixels, 1,244 dead (3.91%)\n",
            "  Image 111/355: 39,402 pixels, 297 dead (0.75%)\n",
            "  Image 121/355: 38,592 pixels, 0 dead (0.00%)\n",
            "  Image 131/355: 30,788 pixels, 315 dead (1.02%)\n",
            "  Image 141/355: 30,561 pixels, 272 dead (0.89%)\n",
            "  Image 151/355: 31,675 pixels, 175 dead (0.55%)\n",
            "  Image 161/355: 34,176 pixels, 747 dead (2.19%)\n",
            "  Image 171/355: 31,320 pixels, 217 dead (0.69%)\n",
            "  Image 181/355: 28,014 pixels, 162 dead (0.58%)\n",
            "  Image 191/355: 31,320 pixels, 428 dead (1.37%)\n",
            "  Image 201/355: 26,860 pixels, 380 dead (1.41%)\n",
            "  Image 211/355: 26,730 pixels, 180 dead (0.67%)\n",
            "  Image 221/355: 32,940 pixels, 1,233 dead (3.74%)\n",
            "  Image 231/355: 32,016 pixels, 232 dead (0.72%)\n",
            "  Image 241/355: 23,989 pixels, 778 dead (3.24%)\n",
            "  Image 251/355: 33,807 pixels, 282 dead (0.83%)\n",
            "  Image 261/355: 33,108 pixels, 157 dead (0.47%)\n",
            "  Image 271/355: 55,687 pixels, 365 dead (0.66%)\n",
            "  Image 281/355: 37,056 pixels, 1,365 dead (3.68%)\n",
            "  Image 291/355: 52,891 pixels, 432 dead (0.82%)\n",
            "  Image 301/355: 48,837 pixels, 1,846 dead (3.78%)\n",
            "  Image 311/355: 37,044 pixels, 493 dead (1.33%)\n",
            "  Image 321/355: 33,440 pixels, 709 dead (2.12%)\n",
            "  Image 331/355: 39,179 pixels, 434 dead (1.11%)\n",
            "  Image 341/355: 29,750 pixels, 212 dead (0.71%)\n",
            "  Image 351/355: 37,245 pixels, 1,413 dead (3.79%)\n",
            "  Image 355/355: 43,672 pixels, 449 dead (1.03%)\n",
            "\n",
            "Phase 2: Class rebalancing within training set...\n",
            "Raw training pixels: 13,875,756\n",
            "Dead tree pixels: 256,883 (1.85%)\n",
            "Background pixels: 13,618,873\n",
            "Target dead tree pixels: 256,883\n",
            "Target background pixels: 743,117\n",
            "Using all 256,883 available dead tree pixels\n",
            "Randomly sampled 743,117 background pixels\n",
            "\n",
            "Final rebalanced training set:\n",
            "Total pixels: 1,000,000\n",
            "Dead tree pixels: 256,883 (25.7%)\n",
            "Background pixels: 743,117 (74.3%)\n",
            "Feature dimensions: (1000000, 8)\n"
          ]
        }
      ],
      "source": [
        "# Extract and rebalance training pixels\n",
        "X_train, y_train, mask = extract_pixels_with_rebalancing(\n",
        "    train_idx, rgb_paths, nrg_paths, mask_paths,\n",
        "    downsample=2,\n",
        "    target_dead_ratio=0.3,\n",
        "    max_total_pixels=1000000\n",
        ")"
      ]
    },
    {
      "cell_type": "code",
      "execution_count": 29,
      "metadata": {
        "colab": {
          "base_uri": "https://localhost:8080/"
        },
        "id": "uxDH6t0PXakS",
        "outputId": "705ba03c-5b12-4692-8268-939a50a4b27c"
      },
      "outputs": [
        {
          "output_type": "stream",
          "name": "stdout",
          "text": [
            "Extracting test pixels with natural class distribution...\n",
            "Features: R, G, B, NIR, NDVI, EVI, SAVI, GNDVI (8 features)\n",
            "  Image 1/89: 35,880 pixels, 615 dead (1.71%)\n",
            "  Image 6/89: 95,456 pixels, 602 dead (0.63%)\n",
            "  Image 11/89: 35,910 pixels, 472 dead (1.31%)\n",
            "  Image 16/89: 31,486 pixels, 75 dead (0.24%)\n",
            "  Image 21/89: 38,024 pixels, 588 dead (1.55%)\n",
            "  Image 26/89: 28,552 pixels, 623 dead (2.18%)\n",
            "  Image 31/89: 47,300 pixels, 767 dead (1.62%)\n",
            "  Image 36/89: 30,967 pixels, 75 dead (0.24%)\n",
            "  Image 41/89: 31,842 pixels, 988 dead (3.10%)\n",
            "  Image 46/89: 35,820 pixels, 0 dead (0.00%)\n",
            "  Image 51/89: 32,712 pixels, 475 dead (1.45%)\n",
            "  Image 56/89: 42,432 pixels, 1,306 dead (3.08%)\n",
            "  Image 61/89: 33,286 pixels, 232 dead (0.70%)\n",
            "  Image 66/89: 50,400 pixels, 1,766 dead (3.50%)\n",
            "  Image 71/89: 46,176 pixels, 323 dead (0.70%)\n",
            "  Image 76/89: 24,786 pixels, 356 dead (1.44%)\n",
            "  Image 81/89: 30,260 pixels, 226 dead (0.75%)\n",
            "  Image 86/89: 43,884 pixels, 190 dead (0.43%)\n",
            "  Image 89/89: 28,552 pixels, 412 dead (1.44%)\n",
            "\n",
            "Test set summary:\n",
            "Total pixels: 3,585,276\n",
            "Dead tree pixels: 65,277 (1.82%)\n",
            "Background pixels: 3,519,999 (98.18%)\n",
            "Feature dimensions: (3585276, 8)\n"
          ]
        }
      ],
      "source": [
        "# Extract test pixels (natural distribution)\n",
        "X_test, y_test = extract_pixels(test_idx, rgb_paths, nrg_paths, mask_paths, downsample=2)"
      ]
    },
    {
      "cell_type": "code",
      "execution_count": 30,
      "metadata": {
        "colab": {
          "base_uri": "https://localhost:8080/"
        },
        "id": "HSJRUXtaXc1a",
        "outputId": "ad21d3a2-d1e8-4662-a162-62e8659155f1"
      },
      "outputs": [
        {
          "output_type": "stream",
          "name": "stdout",
          "text": [
            "\n",
            "=== FINAL PIPELINE SUMMARY ===\n",
            "Training: 1,000,000 pixels (355 images)\n",
            "Test: 3,585,276 pixels (89 images)\n",
            "Features per pixel: 8\n",
            "✓ Image-level stratification ensures diverse scenarios in both sets\n",
            "✓ Training set rebalanced for effective learning\n",
            "✓ Test set maintains realistic class distribution\n"
          ]
        }
      ],
      "source": [
        "print(f\"\\n=== FINAL PIPELINE SUMMARY ===\")\n",
        "print(f\"Training: {X_train.shape[0]:,} pixels ({len(train_idx)} images)\")\n",
        "print(f\"Test: {X_test.shape[0]:,} pixels ({len(test_idx)} images)\")\n",
        "print(f\"Features per pixel: {X_train.shape[1]}\")\n",
        "print(\"✓ Image-level stratification ensures diverse scenarios in both sets\")\n",
        "print(\"✓ Training set rebalanced for effective learning\")\n",
        "print(\"✓ Test set maintains realistic class distribution\")"
      ]
    },
    {
      "cell_type": "markdown",
      "metadata": {
        "id": "gBrnx-BlQJvX"
      },
      "source": [
        "# Evaluation Metrics Function (mIoU, F1, percision, and recall)"
      ]
    },
    {
      "cell_type": "code",
      "execution_count": 37,
      "metadata": {
        "id": "FQpaYWhZQIyR"
      },
      "outputs": [],
      "source": [
        "import numpy as np\n",
        "import cv2\n",
        "from sklearn.metrics import precision_recall_fscore_support\n",
        "\n",
        "def extract_features_8band_eval(four_band_image: np.ndarray) -> np.ndarray:\n",
        "    \"\"\"\n",
        "    Enhanced feature extraction with all 8 features - SAME as training\n",
        "    Args:\n",
        "        four_band_image: numpy array (H, W, 4) in [NIR, R, G, B] order\n",
        "    Returns:\n",
        "        Feature array (H, W, 8)\n",
        "    \"\"\"\n",
        "    # Normalize to [0,1] and clip to valid range\n",
        "    NIR = np.clip(four_band_image[..., 0] / 255.0, 0, 1)\n",
        "    R   = np.clip(four_band_image[..., 1] / 255.0, 0, 1)\n",
        "    G   = np.clip(four_band_image[..., 2] / 255.0, 0, 1)\n",
        "    B   = np.clip(four_band_image[..., 3] / 255.0, 0, 1)\n",
        "\n",
        "    # Basic bands\n",
        "    features = [R, G, B, NIR]\n",
        "\n",
        "    # Vegetation indices with NaN protection\n",
        "    # NDVI\n",
        "    ndvi_denom = NIR + R + 1e-8\n",
        "    NDVI = np.where(ndvi_denom > 0, (NIR - R) / ndvi_denom, 0)\n",
        "\n",
        "    # EVI - more complex, needs careful handling\n",
        "    evi_denom = NIR + 6 * R - 7.5 * B + 1\n",
        "    EVI = np.where(evi_denom != 0, 2.5 * (NIR - R) / evi_denom, 0)\n",
        "    EVI = np.clip(EVI, -1, 1)  # EVI typically ranges from -1 to 1\n",
        "\n",
        "    # SAVI\n",
        "    savi_denom = NIR + R + 0.5\n",
        "    SAVI = np.where(savi_denom > 0, 1.5 * (NIR - R) / savi_denom, 0)\n",
        "\n",
        "    # GNDVI\n",
        "    gndvi_denom = NIR + G + 1e-8\n",
        "    GNDVI = np.where(gndvi_denom > 0, (NIR - G) / gndvi_denom, 0)\n",
        "\n",
        "    features.extend([NDVI, EVI, SAVI, GNDVI])\n",
        "\n",
        "    # Stack and ensure no NaN/inf values\n",
        "    result = np.stack(features, axis=-1).astype(np.float32)\n",
        "    result = np.nan_to_num(result, nan=0.0, posinf=1.0, neginf=-1.0)\n",
        "\n",
        "    return result\n",
        "\n",
        "\n",
        "def iou(pred_mask: np.ndarray, true_mask: np.ndarray) -> float:\n",
        "    \"\"\"Original IoU function - works perfectly\"\"\"\n",
        "    assert pred_mask.shape == true_mask.shape, f\"Shape mismatch: {pred_mask.shape} vs {true_mask.shape}\"\n",
        "    intersection = np.logical_and(pred_mask, true_mask).sum()\n",
        "    union        = np.logical_or(pred_mask, true_mask).sum()\n",
        "    return intersection / (union + 1e-8)\n",
        "\n",
        "\n",
        "def evaluate_model(\n",
        "    model,\n",
        "    idxs,\n",
        "    rgb_paths,\n",
        "    nrg_paths,\n",
        "    mask_paths,\n",
        "    downsample: int = 1,\n",
        "    threshold: float = 0.5\n",
        "):\n",
        "    \"\"\"\n",
        "    Evaluate model using mIoU, F1, Precision, and Recall.\n",
        "    CORRECTED: Now uses 8 features to match training pipeline.\n",
        "\n",
        "    Returns:\n",
        "        dict: Contains mIoU, precision, recall, f1 for dead tree detection\n",
        "    \"\"\"\n",
        "\n",
        "    # Storage for image-level IoUs and pixel-level predictions\n",
        "    ious = []\n",
        "    all_true_labels = []\n",
        "    all_pred_labels = []\n",
        "\n",
        "    print(f\"Evaluating model on {len(idxs)} images...\")\n",
        "    print(\"Using 8 features: R, G, B, NIR, NDVI, EVI, SAVI, GNDVI\")\n",
        "\n",
        "    for img_idx, i in enumerate(idxs):\n",
        "        # Same image processing pipeline as training\n",
        "        four_band = merge_rgb_nrg_to_4band(rgb_paths[i], nrg_paths[i], downsample)\n",
        "        msk = cv2.imread(mask_paths[i], cv2.IMREAD_GRAYSCALE)[::downsample, ::downsample]\n",
        "\n",
        "        # CORRECTED: Extract ALL 8 features (identical to training pipeline)\n",
        "        features_8band = extract_features_8band_eval(four_band)  # Shape: (H, W, 8)\n",
        "        h, w = features_8band.shape[:2]\n",
        "\n",
        "        # Flatten to pixel-level features (8 features now)\n",
        "        feats = features_8band.reshape(-1, 8)\n",
        "\n",
        "        # Get predictions\n",
        "        if hasattr(model, \"predict_proba\"):\n",
        "            proba = model.predict_proba(feats)[:, 1]\n",
        "            pred = (proba > threshold).astype(np.uint8)\n",
        "        else:\n",
        "            pred = model.predict(feats).astype(np.uint8)\n",
        "\n",
        "        # Reshape masks\n",
        "        pred_mask = pred.reshape(h, w)\n",
        "        true_mask = (msk > 127).astype(np.uint8)\n",
        "\n",
        "        # Compute IoU for this image\n",
        "        iou_score = iou(pred_mask, true_mask)\n",
        "        ious.append(iou_score)\n",
        "\n",
        "        # Accumulate pixel-level predictions for global metrics\n",
        "        all_true_labels.extend(true_mask.flatten())\n",
        "        all_pred_labels.extend(pred_mask.flatten())\n",
        "\n",
        "        # Progress reporting\n",
        "        if img_idx % 20 == 0 or img_idx == len(idxs) - 1:\n",
        "            dead_pixels = np.sum(true_mask)\n",
        "            total_pixels = true_mask.size\n",
        "            print(f\"  Processed {img_idx + 1}/{len(idxs)} images... \"\n",
        "                  f\"IoU: {iou_score:.3f}, Dead pixels: {dead_pixels:,}/{total_pixels:,}\")\n",
        "\n",
        "    # Compute mean IoU across all images\n",
        "    mean_iou = float(np.mean(ious))\n",
        "\n",
        "    # Compute precision, recall, F1 across all pixels\n",
        "    all_true_labels = np.array(all_true_labels)\n",
        "    all_pred_labels = np.array(all_pred_labels)\n",
        "\n",
        "    # Get metrics for dead tree class (class 1)\n",
        "    precision, recall, f1, _ = precision_recall_fscore_support(\n",
        "        all_true_labels, all_pred_labels, labels=[0, 1], average=None, zero_division=0\n",
        "    )\n",
        "\n",
        "    # Extract dead tree metrics (index 1)\n",
        "    dead_tree_precision = precision[1] if len(precision) > 1 else 0.0\n",
        "    dead_tree_recall = recall[1] if len(recall) > 1 else 0.0\n",
        "    dead_tree_f1 = f1[1] if len(f1) > 1 else 0.0\n",
        "\n",
        "    return {\n",
        "        'mIoU': mean_iou,\n",
        "        'precision': dead_tree_precision,\n",
        "        'recall': dead_tree_recall,\n",
        "        'f1': dead_tree_f1,\n",
        "        'num_images': len(idxs),\n",
        "        'total_dead_pixels': int(all_true_labels.sum()),\n",
        "        'total_pixels': len(all_true_labels),\n",
        "        'individual_ious': ious  # Added for detailed analysis\n",
        "    }\n",
        "\n",
        "\n",
        "def print_evaluation_results(results):\n",
        "    \"\"\"Print evaluation results in a clean format\"\"\"\n",
        "\n",
        "    print(\"\\n\" + \"=\"*60)\n",
        "    print(\"DEAD TREE DETECTION - EVALUATION RESULTS (8 Features)\")\n",
        "    print(\"=\"*60)\n",
        "\n",
        "    print(f\"Images evaluated: {results['num_images']}\")\n",
        "    print(f\"Total pixels: {results['total_pixels']:,}\")\n",
        "    print(f\"Dead tree pixels: {results['total_dead_pixels']:,}\")\n",
        "    print(f\"Dead tree pixel coverage: {results['total_dead_pixels']/results['total_pixels']*100:.2f}%\")\n",
        "    print()\n",
        "    print(f\"Mean IoU:  {results['mIoU']:.4f}\")\n",
        "    print(f\"Precision: {results['precision']:.4f}\")\n",
        "    print(f\"Recall:    {results['recall']:.4f}\")\n",
        "    print(f\"F1-Score:  {results['f1']:.4f}\")\n",
        "\n",
        "    print(\"=\"*60)"
      ]
    },
    {
      "cell_type": "markdown",
      "metadata": {
        "id": "UAwqugKZNbTJ"
      },
      "source": [
        "# Model Training"
      ]
    },
    {
      "cell_type": "markdown",
      "metadata": {
        "id": "_c3-6GhcQB30"
      },
      "source": [
        "## IOU evaluation and Classification Report (Random Forest)"
      ]
    },
    {
      "cell_type": "code",
      "execution_count": 34,
      "metadata": {
        "colab": {
          "base_uri": "https://localhost:8080/"
        },
        "id": "GAvfnnOVQQp2",
        "outputId": "5154f13a-1f28-4cbc-cfbb-d3e5a4f6bebe"
      },
      "outputs": [
        {
          "output_type": "stream",
          "name": "stdout",
          "text": [
            "Evaluating model on 89 images...\n",
            "Using 8 features: R, G, B, NIR, NDVI, EVI, SAVI, GNDVI\n",
            "  Processed 1/89 images... IoU: 0.002, Dead pixels: 2,497/143,520\n",
            "  Processed 21/89 images... IoU: 0.272, Dead pixels: 2,375/152,096\n",
            "  Processed 41/89 images... IoU: 0.052, Dead pixels: 3,976/126,655\n",
            "  Processed 61/89 images... IoU: 0.118, Dead pixels: 910/133,144\n",
            "  Processed 81/89 images... IoU: 0.104, Dead pixels: 908/120,700\n",
            "  Processed 89/89 images... IoU: 0.139, Dead pixels: 1,658/113,864\n"
          ]
        }
      ],
      "source": [
        "rf_model = RandomForestClassifier(n_estimators=100, max_depth=4, class_weight=None, n_jobs=4, random_state=42)\n",
        "rf_model.fit(X_train, y_train)\n",
        "\n",
        "# Compare on test set\n",
        "results_rf = evaluate_model(rf_model, test_idx, rgb_paths, nrg_paths, mask_paths)"
      ]
    },
    {
      "cell_type": "code",
      "execution_count": 43,
      "metadata": {
        "colab": {
          "base_uri": "https://localhost:8080/"
        },
        "id": "t5zIyH5-a4ql",
        "outputId": "1e481d1a-1a12-4f9b-db44-ebe2a14aa803"
      },
      "outputs": [
        {
          "output_type": "stream",
          "name": "stdout",
          "text": [
            "\n",
            "============================================================\n",
            "DEAD TREE DETECTION - EVALUATION RESULTS (8 Features)\n",
            "============================================================\n",
            "Images evaluated: 89\n",
            "Total pixels: 14,310,175\n",
            "Dead tree pixels: 261,227\n",
            "Dead tree pixel coverage: 1.83%\n",
            "\n",
            "Mean IoU:  0.1283\n",
            "Precision: 0.1564\n",
            "Recall:    0.4565\n",
            "F1-Score:  0.2329\n",
            "============================================================\n"
          ]
        }
      ],
      "source": [
        "print_evaluation_results(results_rf)"
      ]
    },
    {
      "cell_type": "code",
      "execution_count": 41,
      "metadata": {
        "colab": {
          "base_uri": "https://localhost:8080/",
          "height": 824
        },
        "id": "V9B2wzOVQAcf",
        "outputId": "64338011-a43b-4b6e-885b-6f2eb51f8996"
      },
      "outputs": [
        {
          "output_type": "stream",
          "name": "stdout",
          "text": [
            "Training MLP on 1,000,000 pixels...\n",
            "Epoch  10: Train Loss: 0.4037, Val Loss: 0.3950\n",
            "Epoch  20: Train Loss: 0.4020, Val Loss: 0.3948\n",
            "Epoch  30: Train Loss: 0.4019, Val Loss: 0.3942\n",
            "Epoch  40: Train Loss: 0.4014, Val Loss: 0.3935\n",
            "Epoch  50: Train Loss: 0.4013, Val Loss: 0.3936\n",
            "Training completed!\n"
          ]
        },
        {
          "output_type": "display_data",
          "data": {
            "text/plain": [
              "<Figure size 1000x600 with 1 Axes>"
            ],
            "image/png": "[encoded data removed]"
          },
          "metadata": {}
        },
        {
          "output_type": "stream",
          "name": "stdout",
          "text": [
            "Evaluating model on 89 images...\n",
            "Using 8 features: R, G, B, NIR, NDVI, EVI, SAVI, GNDVI\n",
            "  Processed 1/89 images... IoU: 0.010, Dead pixels: 2,497/143,520\n",
            "  Processed 21/89 images... IoU: 0.135, Dead pixels: 2,375/152,096\n",
            "  Processed 41/89 images... IoU: 0.071, Dead pixels: 3,976/126,655\n",
            "  Processed 61/89 images... IoU: 0.056, Dead pixels: 910/133,144\n",
            "  Processed 81/89 images... IoU: 0.073, Dead pixels: 908/120,700\n",
            "  Processed 89/89 images... IoU: 0.118, Dead pixels: 1,658/113,864\n"
          ]
        }
      ],
      "source": [
        "import numpy as np\n",
        "import torch\n",
        "import torch.nn as nn\n",
        "import torch.optim as optim\n",
        "from torch.utils.data import DataLoader, TensorDataset\n",
        "from sklearn.preprocessing import StandardScaler\n",
        "from sklearn.metrics import classification_report, confusion_matrix, roc_auc_score, accuracy_score\n",
        "import matplotlib.pyplot as plt\n",
        "from typing import Tuple, List\n",
        "import warnings\n",
        "warnings.filterwarnings('ignore')\n",
        "\n",
        "class CropHealthMLP(nn.Module):\n",
        "    def __init__(self,\n",
        "                 input_size: int = 8,\n",
        "                 hidden_sizes: List[int] = [64, 32, 16],\n",
        "                 dropout_rate: float = 0.3,\n",
        "                 use_batch_norm: bool = True):\n",
        "        \"\"\"\n",
        "        Initialize the MLP architecture.\n",
        "\n",
        "        Args:\n",
        "            input_size: Number of input features (5 for R, G, B, NIR, NDVI)\n",
        "            hidden_sizes: List of hidden layer sizes\n",
        "            dropout_rate: Dropout probability for regularization\n",
        "            use_batch_norm: Whether to use batch normalization\n",
        "        \"\"\"\n",
        "        super(CropHealthMLP, self).__init__()\n",
        "\n",
        "        # Build the network layers\n",
        "        layers = []\n",
        "        current_size = input_size\n",
        "\n",
        "        for i, hidden_size in enumerate(hidden_sizes):\n",
        "            layers.append(nn.Linear(current_size, hidden_size))\n",
        "\n",
        "            if use_batch_norm:\n",
        "                layers.append(nn.BatchNorm1d(hidden_size))\n",
        "\n",
        "            layers.append(nn.ReLU())\n",
        "            layers.append(nn.Dropout(dropout_rate))\n",
        "\n",
        "            current_size = hidden_size\n",
        "\n",
        "        # Output layer for binary classification\n",
        "        layers.append(nn.Linear(current_size, 1))\n",
        "\n",
        "        self.network = nn.Sequential(*layers)\n",
        "        self._initialize_weights()\n",
        "\n",
        "    def _initialize_weights(self):\n",
        "        \"\"\"Initialize network weights using Xavier initialization.\"\"\"\n",
        "        for module in self.modules():\n",
        "            if isinstance(module, nn.Linear):\n",
        "                nn.init.xavier_uniform_(module.weight)\n",
        "                nn.init.constant_(module.bias, 0)\n",
        "\n",
        "    def forward(self, x: torch.Tensor) -> torch.Tensor:\n",
        "        \"\"\"Forward pass through the network.\"\"\"\n",
        "        return self.network(x)\n",
        "\n",
        "\n",
        "class CropHealthTrainer:\n",
        "    def __init__(self, model: CropHealthMLP, device: str = 'cpu'):\n",
        "        \"\"\"\n",
        "        Initialize the trainer with a model and computing device.\n",
        "\n",
        "        Args:\n",
        "            model: The MLP model to train\n",
        "            device: Computing device ('cpu' or 'cuda')\n",
        "        \"\"\"\n",
        "        self.model = model.to(device)\n",
        "        self.device = device\n",
        "        self.scaler = StandardScaler()\n",
        "        self.training_history = {'train_loss': [], 'val_loss': []}\n",
        "\n",
        "        # Loss and optimizer\n",
        "        self.criterion = nn.BCEWithLogitsLoss()\n",
        "        self.optimizer = optim.Adam(model.parameters(), lr=0.001, weight_decay=1e-5)\n",
        "        self.scheduler = optim.lr_scheduler.ReduceLROnPlateau(\n",
        "            self.optimizer, mode='min', patience=10, factor=0.5, verbose=False\n",
        "        )\n",
        "\n",
        "    def fit(self, X_train: np.ndarray, y_train: np.ndarray,\n",
        "            validation_split: float = 0.2, epochs: int = 100,\n",
        "            batch_size: int = 1024, patience: int = 15):\n",
        "        \"\"\"\n",
        "        Train the model - sklearn-style interface.\n",
        "\n",
        "        Args:\n",
        "            X_train: Training features of shape (n_samples, 5)\n",
        "            y_train: Training labels of shape (n_samples,)\n",
        "            validation_split: Fraction of data to use for validation\n",
        "            epochs: Maximum number of training epochs\n",
        "            batch_size: Batch size for training\n",
        "            patience: Early stopping patience\n",
        "        \"\"\"\n",
        "        print(f\"Training MLP on {len(X_train):,} pixels...\")\n",
        "\n",
        "        # Split data for validation\n",
        "        n_val = int(len(X_train) * validation_split)\n",
        "        indices = np.random.permutation(len(X_train))\n",
        "        val_idx, train_idx = indices[:n_val], indices[n_val:]\n",
        "\n",
        "        X_train_split = X_train[train_idx]\n",
        "        y_train_split = y_train[train_idx]\n",
        "        X_val = X_train[val_idx]\n",
        "        y_val = y_train[val_idx]\n",
        "\n",
        "        # Normalize features\n",
        "        X_train_scaled = self.scaler.fit_transform(X_train_split)\n",
        "        X_val_scaled = self.scaler.transform(X_val)\n",
        "\n",
        "        # Convert to PyTorch tensors\n",
        "        X_train_tensor = torch.FloatTensor(X_train_scaled)\n",
        "        y_train_tensor = torch.FloatTensor(y_train_split).unsqueeze(1)\n",
        "        X_val_tensor = torch.FloatTensor(X_val_scaled)\n",
        "        y_val_tensor = torch.FloatTensor(y_val).unsqueeze(1)\n",
        "\n",
        "        # Create data loaders\n",
        "        train_dataset = TensorDataset(X_train_tensor, y_train_tensor)\n",
        "        val_dataset = TensorDataset(X_val_tensor, y_val_tensor)\n",
        "\n",
        "        train_loader = DataLoader(train_dataset, batch_size=batch_size, shuffle=True)\n",
        "        val_loader = DataLoader(val_dataset, batch_size=batch_size, shuffle=False)\n",
        "\n",
        "        # Training loop\n",
        "        best_val_loss = float('inf')\n",
        "        patience_counter = 0\n",
        "\n",
        "        for epoch in range(epochs):\n",
        "            # Training phase\n",
        "            self.model.train()\n",
        "            total_train_loss = 0\n",
        "\n",
        "            for batch_features, batch_labels in train_loader:\n",
        "                batch_features = batch_features.to(self.device)\n",
        "                batch_labels = batch_labels.to(self.device)\n",
        "\n",
        "                self.optimizer.zero_grad()\n",
        "                outputs = self.model(batch_features)\n",
        "                loss = self.criterion(outputs, batch_labels)\n",
        "                loss.backward()\n",
        "                self.optimizer.step()\n",
        "\n",
        "                total_train_loss += loss.item()\n",
        "\n",
        "            # Validation phase\n",
        "            self.model.eval()\n",
        "            total_val_loss = 0\n",
        "\n",
        "            with torch.no_grad():\n",
        "                for batch_features, batch_labels in val_loader:\n",
        "                    batch_features = batch_features.to(self.device)\n",
        "                    batch_labels = batch_labels.to(self.device)\n",
        "\n",
        "                    outputs = self.model(batch_features)\n",
        "                    loss = self.criterion(outputs, batch_labels)\n",
        "                    total_val_loss += loss.item()\n",
        "\n",
        "            avg_train_loss = total_train_loss / len(train_loader)\n",
        "            avg_val_loss = total_val_loss / len(val_loader)\n",
        "\n",
        "            self.training_history['train_loss'].append(avg_train_loss)\n",
        "            self.training_history['val_loss'].append(avg_val_loss)\n",
        "\n",
        "            # Update learning rate\n",
        "            self.scheduler.step(avg_val_loss)\n",
        "\n",
        "            # Print progress every 10 epochs\n",
        "            if (epoch + 1) % 10 == 0:\n",
        "                print(f\"Epoch {epoch+1:3d}: Train Loss: {avg_train_loss:.4f}, \"\n",
        "                      f\"Val Loss: {avg_val_loss:.4f}\")\n",
        "\n",
        "            # Early stopping\n",
        "            if avg_val_loss < best_val_loss:\n",
        "                best_val_loss = avg_val_loss\n",
        "                patience_counter = 0\n",
        "                # Save best model state\n",
        "                best_model_state = self.model.state_dict().copy()\n",
        "            else:\n",
        "                patience_counter += 1\n",
        "\n",
        "            if patience_counter >= patience:\n",
        "                print(f\"Early stopping triggered after {epoch+1} epochs\")\n",
        "                break\n",
        "\n",
        "        # Load best model\n",
        "        self.model.load_state_dict(best_model_state)\n",
        "        print(\"Training completed!\")\n",
        "\n",
        "        return self\n",
        "\n",
        "    def predict_proba(self, X: np.ndarray) -> np.ndarray:\n",
        "        \"\"\"\n",
        "        Predict class probabilities - sklearn-style interface.\n",
        "\n",
        "        Args:\n",
        "            X: Features of shape (n_samples, 5)\n",
        "\n",
        "        Returns:\n",
        "            Probabilities of shape (n_samples, 2) for [healthy, dead]\n",
        "        \"\"\"\n",
        "        self.model.eval()\n",
        "\n",
        "        # Normalize features\n",
        "        X_scaled = self.scaler.transform(X)\n",
        "        X_tensor = torch.FloatTensor(X_scaled).to(self.device)\n",
        "\n",
        "        with torch.no_grad():\n",
        "            # Get predictions in batches to handle large datasets\n",
        "            batch_size = 10000\n",
        "            probabilities = []\n",
        "\n",
        "            for i in range(0, len(X_tensor), batch_size):\n",
        "                batch = X_tensor[i:i+batch_size]\n",
        "                logits = self.model(batch)\n",
        "                dead_proba = torch.sigmoid(logits).cpu().numpy().flatten()\n",
        "                healthy_proba = 1.0 - dead_proba\n",
        "                batch_proba = np.column_stack([healthy_proba, dead_proba])\n",
        "                probabilities.append(batch_proba)\n",
        "\n",
        "            return np.vstack(probabilities)\n",
        "\n",
        "    def predict(self, X: np.ndarray, threshold: float = 0.5) -> np.ndarray:\n",
        "        \"\"\"\n",
        "        Predict class labels - sklearn-style interface.\n",
        "\n",
        "        Args:\n",
        "            X: Features of shape (n_samples, 5)\n",
        "            threshold: Classification threshold\n",
        "\n",
        "        Returns:\n",
        "            Binary predictions of shape (n_samples,)\n",
        "        \"\"\"\n",
        "        probabilities = self.predict_proba(X)\n",
        "        return (probabilities[:, 1] > threshold).astype(np.uint8)\n",
        "\n",
        "\n",
        "    def plot_training_history(self):\n",
        "        \"\"\"Plot training progress.\"\"\"\n",
        "        if not self.training_history['train_loss']:\n",
        "            print(\"No training history to plot.\")\n",
        "            return\n",
        "\n",
        "        plt.figure(figsize=(10, 6))\n",
        "        epochs = range(1, len(self.training_history['train_loss']) + 1)\n",
        "\n",
        "        plt.plot(epochs, self.training_history['train_loss'], 'b-', label='Training Loss')\n",
        "        plt.plot(epochs, self.training_history['val_loss'], 'r-', label='Validation Loss')\n",
        "        plt.title('Model Loss Over Time')\n",
        "        plt.xlabel('Epoch')\n",
        "        plt.ylabel('Loss')\n",
        "        plt.legend()\n",
        "        plt.grid(True)\n",
        "        plt.show()\n",
        "\n",
        "\n",
        "if __name__ == \"__main__\":\n",
        "    # Create model\n",
        "    mlp = CropHealthMLP(\n",
        "        input_size=8,\n",
        "        hidden_sizes=[100, 50, 25],\n",
        "        dropout_rate=0.3\n",
        "    )\n",
        "\n",
        "    # Create trainer\n",
        "    device = 'cuda' if torch.cuda.is_available() else 'cpu'\n",
        "    trainer = CropHealthTrainer(mlp, device=device)\n",
        "\n",
        "    trainer.fit(X_train, y_train, epochs=50, batch_size=1024)\n",
        "\n",
        "    # Make predictions\n",
        "    predictions = trainer.predict(X_test)\n",
        "    probabilities = trainer.predict_proba(X_test)\n",
        "\n",
        "    # Plot training history\n",
        "    trainer.plot_training_history()\n",
        "\n",
        "    # For spatial evaluation with your existing function:\n",
        "    results_spatial = evaluate_model(trainer, test_idx, rgb_paths, nrg_paths, mask_paths)\n"
      ]
    },
    {
      "cell_type": "code",
      "source": [
        "print_evaluation_results(results_spatial)"
      ],
      "metadata": {
        "colab": {
          "base_uri": "https://localhost:8080/"
        },
        "id": "S66bdhzhQlIn",
        "outputId": "eecadeb5-f010-410e-81dc-f45c8b1a228d"
      },
      "execution_count": 42,
      "outputs": [
        {
          "output_type": "stream",
          "name": "stdout",
          "text": [
            "\n",
            "============================================================\n",
            "DEAD TREE DETECTION - EVALUATION RESULTS (8 Features)\n",
            "============================================================\n",
            "Images evaluated: 89\n",
            "Total pixels: 14,310,175\n",
            "Dead tree pixels: 261,227\n",
            "Dead tree pixel coverage: 1.83%\n",
            "\n",
            "Mean IoU:  0.1185\n",
            "Precision: 0.1314\n",
            "Recall:    0.5120\n",
            "F1-Score:  0.2091\n",
            "============================================================\n"
          ]
        }
      ]
    },
    {
      "cell_type": "code",
      "execution_count": 38,
      "metadata": {
        "colab": {
          "base_uri": "https://localhost:8080/"
        },
        "id": "jtO1yeINIbii",
        "outputId": "032ce47b-cfff-4a0d-d407-18766532d89b"
      },
      "outputs": [
        {
          "output_type": "stream",
          "name": "stdout",
          "text": [
            "Evaluating XGBoost...\n",
            "Evaluating model on 89 images...\n",
            "Using 8 features: R, G, B, NIR, NDVI, EVI, SAVI, GNDVI\n",
            "  Processed 1/89 images... IoU: 0.011, Dead pixels: 2,497/143,520\n",
            "  Processed 21/89 images... IoU: 0.129, Dead pixels: 2,375/152,096\n",
            "  Processed 41/89 images... IoU: 0.058, Dead pixels: 3,976/126,655\n",
            "  Processed 61/89 images... IoU: 0.063, Dead pixels: 910/133,144\n",
            "  Processed 81/89 images... IoU: 0.078, Dead pixels: 908/120,700\n",
            "  Processed 89/89 images... IoU: 0.123, Dead pixels: 1,658/113,864\n",
            "\n",
            "============================================================\n",
            "DEAD TREE DETECTION - EVALUATION RESULTS (8 Features)\n",
            "============================================================\n",
            "Images evaluated: 89\n",
            "Total pixels: 14,310,175\n",
            "Dead tree pixels: 261,227\n",
            "Dead tree pixel coverage: 1.83%\n",
            "\n",
            "Mean IoU:  0.1198\n",
            "Precision: 0.1364\n",
            "Recall:    0.5001\n",
            "F1-Score:  0.2143\n",
            "============================================================\n"
          ]
        }
      ],
      "source": [
        "xgb_model = XGBClassifier(\n",
        "    n_estimators=100,\n",
        "    max_depth=4,\n",
        "    eval_metric='aucpr',\n",
        "    random_state=42,\n",
        "    n_jobs=4\n",
        ")\n",
        "xgb_model.fit(X_train, y_train)\n",
        "\n",
        "# Evaluate on test set using same function\n",
        "print(\"Evaluating XGBoost...\")\n",
        "results_xgb = evaluate_model(xgb_model, test_idx, rgb_paths, nrg_paths, mask_paths)\n",
        "print_evaluation_results(results_xgb)\n"
      ]
    },
    {
      "cell_type": "code",
      "execution_count": 39,
      "metadata": {
        "colab": {
          "base_uri": "https://localhost:8080/"
        },
        "id": "sYRcJZQr2BRT",
        "outputId": "d0cb46d5-879d-43d0-ae68-b6b2e4813687"
      },
      "outputs": [
        {
          "output_type": "stream",
          "name": "stdout",
          "text": [
            "Evaluating LightGBM...\n",
            "Evaluating model on 89 images...\n",
            "Using 8 features: R, G, B, NIR, NDVI, EVI, SAVI, GNDVI\n",
            "  Processed 1/89 images... IoU: 0.010, Dead pixels: 2,497/143,520\n",
            "  Processed 21/89 images... IoU: 0.137, Dead pixels: 2,375/152,096\n",
            "  Processed 41/89 images... IoU: 0.061, Dead pixels: 3,976/126,655\n",
            "  Processed 61/89 images... IoU: 0.067, Dead pixels: 910/133,144\n",
            "  Processed 81/89 images... IoU: 0.085, Dead pixels: 908/120,700\n",
            "  Processed 89/89 images... IoU: 0.125, Dead pixels: 1,658/113,864\n",
            "\n",
            "============================================================\n",
            "DEAD TREE DETECTION - EVALUATION RESULTS (8 Features)\n",
            "============================================================\n",
            "Images evaluated: 89\n",
            "Total pixels: 14,310,175\n",
            "Dead tree pixels: 261,227\n",
            "Dead tree pixel coverage: 1.83%\n",
            "\n",
            "Mean IoU:  0.1225\n",
            "Precision: 0.1410\n",
            "Recall:    0.4935\n",
            "F1-Score:  0.2193\n",
            "============================================================\n"
          ]
        }
      ],
      "source": [
        "lgb_model = LGBMClassifier(\n",
        "    n_estimators=100,\n",
        "    max_depth=4,\n",
        "    device='gpu',  # Use 'cpu' if GPU not available\n",
        "    random_state=42,\n",
        "    n_jobs=4,\n",
        "    verbose=-1  # Suppress training output\n",
        ")\n",
        "lgb_model.fit(X_train, y_train)\n",
        "\n",
        "# Evaluate on test set using same function\n",
        "print(\"Evaluating LightGBM...\")\n",
        "results_lgb = evaluate_model(lgb_model, test_idx, rgb_paths, nrg_paths, mask_paths)\n",
        "print_evaluation_results(results_lgb)"
      ]
    },
    {
      "cell_type": "markdown",
      "metadata": {
        "id": "T5OKBKIHJefn"
      },
      "source": [
        "## CNN Architecture (Spatial Data Analysis)"
      ]
    },
    {
      "cell_type": "code",
      "execution_count": 15,
      "metadata": {
        "id": "zqs0qK9pJYZO",
        "colab": {
          "base_uri": "https://localhost:8080/",
          "height": 1000
        },
        "outputId": "c248532d-f17e-40c3-bcab-2ade760d6287"
      },
      "outputs": [
        {
          "output_type": "stream",
          "name": "stdout",
          "text": [
            "Creating improved model with dropout...\n",
            "Extracting training patches...\n"
          ]
        },
        {
          "output_type": "stream",
          "name": "stderr",
          "text": [
            "Extracting patches: 100%|██████████| 355/355 [00:09<00:00, 37.51it/s]\n"
          ]
        },
        {
          "output_type": "stream",
          "name": "stdout",
          "text": [
            "Total patches: 7863 (pos: 970, neg: 6893)\n",
            "Balancing...\n",
            "Balanced: 2910 (pos: 970, neg: 1940)\n",
            "Training with enhanced regularization...\n"
          ]
        },
        {
          "output_type": "stream",
          "name": "stderr",
          "text": [
            "Epoch 1 - Training: 100%|██████████| 291/291 [00:09<00:00, 31.88it/s]\n"
          ]
        },
        {
          "output_type": "stream",
          "name": "stdout",
          "text": [
            "Epoch 1: Train Loss: 0.7317, Train Acc: 0.8180, Val Loss: 0.2085, Val Acc: 0.9625, LR: 0.000200\n",
            "  → New best model saved (val_loss: 0.2085)\n"
          ]
        },
        {
          "output_type": "stream",
          "name": "stderr",
          "text": [
            "Epoch 2 - Training: 100%|██████████| 291/291 [00:07<00:00, 39.73it/s]\n"
          ]
        },
        {
          "output_type": "stream",
          "name": "stdout",
          "text": [
            "Epoch 2: Train Loss: 0.2706, Train Acc: 0.9476, Val Loss: 0.1827, Val Acc: 0.9635, LR: 0.000200\n",
            "  → New best model saved (val_loss: 0.1827)\n"
          ]
        },
        {
          "output_type": "stream",
          "name": "stderr",
          "text": [
            "Epoch 3 - Training: 100%|██████████| 291/291 [00:07<00:00, 41.34it/s]\n"
          ]
        },
        {
          "output_type": "stream",
          "name": "stdout",
          "text": [
            "Epoch 3: Train Loss: 0.2228, Train Acc: 0.9546, Val Loss: 0.1690, Val Acc: 0.9655, LR: 0.000200\n",
            "  → New best model saved (val_loss: 0.1690)\n"
          ]
        },
        {
          "output_type": "stream",
          "name": "stderr",
          "text": [
            "Epoch 4 - Training: 100%|██████████| 291/291 [00:07<00:00, 38.89it/s]\n"
          ]
        },
        {
          "output_type": "stream",
          "name": "stdout",
          "text": [
            "Epoch 4: Train Loss: 0.2044, Train Acc: 0.9562, Val Loss: 0.1653, Val Acc: 0.9659, LR: 0.000200\n",
            "  → New best model saved (val_loss: 0.1653)\n"
          ]
        },
        {
          "output_type": "stream",
          "name": "stderr",
          "text": [
            "Epoch 5 - Training: 100%|██████████| 291/291 [00:07<00:00, 41.51it/s]\n"
          ]
        },
        {
          "output_type": "stream",
          "name": "stdout",
          "text": [
            "Epoch 5: Train Loss: 0.1909, Train Acc: 0.9579, Val Loss: 0.1532, Val Acc: 0.9673, LR: 0.000200\n",
            "  → New best model saved (val_loss: 0.1532)\n"
          ]
        },
        {
          "output_type": "stream",
          "name": "stderr",
          "text": [
            "Epoch 6 - Training: 100%|██████████| 291/291 [00:07<00:00, 40.40it/s]\n"
          ]
        },
        {
          "output_type": "stream",
          "name": "stdout",
          "text": [
            "Epoch 6: Train Loss: 0.1841, Train Acc: 0.9585, Val Loss: 0.1524, Val Acc: 0.9680, LR: 0.000200\n",
            "  → New best model saved (val_loss: 0.1524)\n"
          ]
        },
        {
          "output_type": "stream",
          "name": "stderr",
          "text": [
            "Epoch 7 - Training: 100%|██████████| 291/291 [00:07<00:00, 37.75it/s]\n"
          ]
        },
        {
          "output_type": "stream",
          "name": "stdout",
          "text": [
            "Epoch 7: Train Loss: 0.1748, Train Acc: 0.9585, Val Loss: 0.1424, Val Acc: 0.9690, LR: 0.000200\n",
            "  → New best model saved (val_loss: 0.1424)\n"
          ]
        },
        {
          "output_type": "stream",
          "name": "stderr",
          "text": [
            "Epoch 8 - Training: 100%|██████████| 291/291 [00:07<00:00, 38.20it/s]\n"
          ]
        },
        {
          "output_type": "stream",
          "name": "stdout",
          "text": [
            "Epoch 8: Train Loss: 0.1689, Train Acc: 0.9596, Val Loss: 0.1379, Val Acc: 0.9690, LR: 0.000200\n",
            "  → New best model saved (val_loss: 0.1379)\n"
          ]
        },
        {
          "output_type": "stream",
          "name": "stderr",
          "text": [
            "Epoch 9 - Training: 100%|██████████| 291/291 [00:06<00:00, 42.47it/s]\n"
          ]
        },
        {
          "output_type": "stream",
          "name": "stdout",
          "text": [
            "Epoch 9: Train Loss: 0.1672, Train Acc: 0.9604, Val Loss: 0.1344, Val Acc: 0.9694, LR: 0.000200\n",
            "  → New best model saved (val_loss: 0.1344)\n"
          ]
        },
        {
          "output_type": "stream",
          "name": "stderr",
          "text": [
            "Epoch 10 - Training: 100%|██████████| 291/291 [00:07<00:00, 39.79it/s]\n"
          ]
        },
        {
          "output_type": "stream",
          "name": "stdout",
          "text": [
            "Epoch 10: Train Loss: 0.1611, Train Acc: 0.9614, Val Loss: 0.1283, Val Acc: 0.9682, LR: 0.000200\n",
            "  → New best model saved (val_loss: 0.1283)\n"
          ]
        },
        {
          "output_type": "stream",
          "name": "stderr",
          "text": [
            "Epoch 11 - Training: 100%|██████████| 291/291 [00:07<00:00, 40.85it/s]\n"
          ]
        },
        {
          "output_type": "stream",
          "name": "stdout",
          "text": [
            "Epoch 11: Train Loss: 0.1631, Train Acc: 0.9610, Val Loss: 0.1462, Val Acc: 0.9698, LR: 0.000200\n"
          ]
        },
        {
          "output_type": "stream",
          "name": "stderr",
          "text": [
            "Epoch 12 - Training: 100%|██████████| 291/291 [00:06<00:00, 41.75it/s]\n"
          ]
        },
        {
          "output_type": "stream",
          "name": "stdout",
          "text": [
            "Epoch 12: Train Loss: 0.1590, Train Acc: 0.9615, Val Loss: 0.1241, Val Acc: 0.9681, LR: 0.000200\n",
            "  → New best model saved (val_loss: 0.1241)\n"
          ]
        },
        {
          "output_type": "stream",
          "name": "stderr",
          "text": [
            "Epoch 13 - Training: 100%|██████████| 291/291 [00:07<00:00, 39.69it/s]\n"
          ]
        },
        {
          "output_type": "stream",
          "name": "stdout",
          "text": [
            "Epoch 13: Train Loss: 0.1570, Train Acc: 0.9607, Val Loss: 0.1258, Val Acc: 0.9685, LR: 0.000200\n"
          ]
        },
        {
          "output_type": "stream",
          "name": "stderr",
          "text": [
            "Epoch 14 - Training: 100%|██████████| 291/291 [00:06<00:00, 41.71it/s]\n"
          ]
        },
        {
          "output_type": "stream",
          "name": "stdout",
          "text": [
            "Epoch 14: Train Loss: 0.1531, Train Acc: 0.9622, Val Loss: 0.1207, Val Acc: 0.9678, LR: 0.000200\n",
            "  → New best model saved (val_loss: 0.1207)\n"
          ]
        },
        {
          "output_type": "stream",
          "name": "stderr",
          "text": [
            "Epoch 15 - Training: 100%|██████████| 291/291 [00:07<00:00, 40.28it/s]\n"
          ]
        },
        {
          "output_type": "stream",
          "name": "stdout",
          "text": [
            "Epoch 15: Train Loss: 0.1544, Train Acc: 0.9617, Val Loss: 0.1229, Val Acc: 0.9697, LR: 0.000200\n"
          ]
        },
        {
          "output_type": "stream",
          "name": "stderr",
          "text": [
            "Epoch 16 - Training: 100%|██████████| 291/291 [00:07<00:00, 39.10it/s]\n"
          ]
        },
        {
          "output_type": "stream",
          "name": "stdout",
          "text": [
            "Epoch 16: Train Loss: 0.1533, Train Acc: 0.9621, Val Loss: 0.1214, Val Acc: 0.9699, LR: 0.000200\n"
          ]
        },
        {
          "output_type": "stream",
          "name": "stderr",
          "text": [
            "Epoch 17 - Training: 100%|██████████| 291/291 [00:06<00:00, 42.00it/s]\n"
          ]
        },
        {
          "output_type": "stream",
          "name": "stdout",
          "text": [
            "Epoch 17: Train Loss: 0.1499, Train Acc: 0.9627, Val Loss: 0.1207, Val Acc: 0.9686, LR: 0.000200\n",
            "  → New best model saved (val_loss: 0.1207)\n"
          ]
        },
        {
          "output_type": "stream",
          "name": "stderr",
          "text": [
            "Epoch 18 - Training: 100%|██████████| 291/291 [00:07<00:00, 40.46it/s]\n"
          ]
        },
        {
          "output_type": "stream",
          "name": "stdout",
          "text": [
            "Epoch 18: Train Loss: 0.1487, Train Acc: 0.9626, Val Loss: 0.1211, Val Acc: 0.9705, LR: 0.000200\n"
          ]
        },
        {
          "output_type": "stream",
          "name": "stderr",
          "text": [
            "Epoch 19 - Training: 100%|██████████| 291/291 [00:07<00:00, 39.46it/s]\n"
          ]
        },
        {
          "output_type": "stream",
          "name": "stdout",
          "text": [
            "Epoch 19: Train Loss: 0.1480, Train Acc: 0.9633, Val Loss: 0.1179, Val Acc: 0.9677, LR: 0.000200\n",
            "  → New best model saved (val_loss: 0.1179)\n"
          ]
        },
        {
          "output_type": "stream",
          "name": "stderr",
          "text": [
            "Epoch 20 - Training: 100%|██████████| 291/291 [00:06<00:00, 42.04it/s]\n"
          ]
        },
        {
          "output_type": "stream",
          "name": "stdout",
          "text": [
            "Epoch 20: Train Loss: 0.1488, Train Acc: 0.9628, Val Loss: 0.1191, Val Acc: 0.9705, LR: 0.000200\n"
          ]
        },
        {
          "output_type": "stream",
          "name": "stderr",
          "text": [
            "Epoch 21 - Training: 100%|██████████| 291/291 [00:07<00:00, 39.97it/s]\n"
          ]
        },
        {
          "output_type": "stream",
          "name": "stdout",
          "text": [
            "Epoch 21: Train Loss: 0.1490, Train Acc: 0.9626, Val Loss: 0.1176, Val Acc: 0.9683, LR: 0.000200\n",
            "  → New best model saved (val_loss: 0.1176)\n"
          ]
        },
        {
          "output_type": "stream",
          "name": "stderr",
          "text": [
            "Epoch 22 - Training: 100%|██████████| 291/291 [00:07<00:00, 39.19it/s]\n"
          ]
        },
        {
          "output_type": "stream",
          "name": "stdout",
          "text": [
            "Epoch 22: Train Loss: 0.1451, Train Acc: 0.9630, Val Loss: 0.1166, Val Acc: 0.9691, LR: 0.000200\n",
            "  → New best model saved (val_loss: 0.1166)\n"
          ]
        },
        {
          "output_type": "stream",
          "name": "stderr",
          "text": [
            "Epoch 23 - Training: 100%|██████████| 291/291 [00:06<00:00, 41.83it/s]\n"
          ]
        },
        {
          "output_type": "stream",
          "name": "stdout",
          "text": [
            "Epoch 23: Train Loss: 0.1440, Train Acc: 0.9636, Val Loss: 0.1145, Val Acc: 0.9700, LR: 0.000200\n",
            "  → New best model saved (val_loss: 0.1145)\n"
          ]
        },
        {
          "output_type": "stream",
          "name": "stderr",
          "text": [
            "Epoch 24 - Training: 100%|██████████| 291/291 [00:07<00:00, 39.90it/s]\n"
          ]
        },
        {
          "output_type": "stream",
          "name": "stdout",
          "text": [
            "Epoch 24: Train Loss: 0.1443, Train Acc: 0.9631, Val Loss: 0.1153, Val Acc: 0.9694, LR: 0.000200\n"
          ]
        },
        {
          "output_type": "stream",
          "name": "stderr",
          "text": [
            "Epoch 25 - Training: 100%|██████████| 291/291 [00:07<00:00, 39.49it/s]\n"
          ]
        },
        {
          "output_type": "stream",
          "name": "stdout",
          "text": [
            "Epoch 25: Train Loss: 0.1442, Train Acc: 0.9631, Val Loss: 0.1175, Val Acc: 0.9680, LR: 0.000200\n"
          ]
        },
        {
          "output_type": "stream",
          "name": "stderr",
          "text": [
            "Epoch 26 - Training: 100%|██████████| 291/291 [00:06<00:00, 41.62it/s]\n"
          ]
        },
        {
          "output_type": "stream",
          "name": "stdout",
          "text": [
            "Epoch 26: Train Loss: 0.1424, Train Acc: 0.9642, Val Loss: 0.1141, Val Acc: 0.9679, LR: 0.000200\n",
            "  → New best model saved (val_loss: 0.1141)\n"
          ]
        },
        {
          "output_type": "stream",
          "name": "stderr",
          "text": [
            "Epoch 27 - Training: 100%|██████████| 291/291 [00:07<00:00, 39.53it/s]\n"
          ]
        },
        {
          "output_type": "stream",
          "name": "stdout",
          "text": [
            "Epoch 27: Train Loss: 0.1422, Train Acc: 0.9637, Val Loss: 0.1145, Val Acc: 0.9702, LR: 0.000200\n"
          ]
        },
        {
          "output_type": "stream",
          "name": "stderr",
          "text": [
            "Epoch 28 - Training: 100%|██████████| 291/291 [00:07<00:00, 39.29it/s]\n"
          ]
        },
        {
          "output_type": "stream",
          "name": "stdout",
          "text": [
            "Epoch 28: Train Loss: 0.1406, Train Acc: 0.9638, Val Loss: 0.1149, Val Acc: 0.9699, LR: 0.000200\n"
          ]
        },
        {
          "output_type": "stream",
          "name": "stderr",
          "text": [
            "Epoch 29 - Training: 100%|██████████| 291/291 [00:06<00:00, 42.33it/s]\n"
          ]
        },
        {
          "output_type": "stream",
          "name": "stdout",
          "text": [
            "Epoch 29: Train Loss: 0.1410, Train Acc: 0.9639, Val Loss: 0.1122, Val Acc: 0.9685, LR: 0.000200\n",
            "  → New best model saved (val_loss: 0.1122)\n"
          ]
        },
        {
          "output_type": "stream",
          "name": "stderr",
          "text": [
            "Epoch 30 - Training: 100%|██████████| 291/291 [00:07<00:00, 38.66it/s]\n"
          ]
        },
        {
          "output_type": "stream",
          "name": "stdout",
          "text": [
            "Epoch 30: Train Loss: 0.1416, Train Acc: 0.9637, Val Loss: 0.1124, Val Acc: 0.9674, LR: 0.000200\n"
          ]
        },
        {
          "output_type": "stream",
          "name": "stderr",
          "text": [
            "Epoch 31 - Training: 100%|██████████| 291/291 [00:07<00:00, 39.80it/s]\n"
          ]
        },
        {
          "output_type": "stream",
          "name": "stdout",
          "text": [
            "Epoch 31: Train Loss: 0.1396, Train Acc: 0.9643, Val Loss: 0.1134, Val Acc: 0.9703, LR: 0.000200\n"
          ]
        },
        {
          "output_type": "stream",
          "name": "stderr",
          "text": [
            "Epoch 32 - Training: 100%|██████████| 291/291 [00:06<00:00, 42.35it/s]\n"
          ]
        },
        {
          "output_type": "stream",
          "name": "stdout",
          "text": [
            "Epoch 32: Train Loss: 0.1389, Train Acc: 0.9641, Val Loss: 0.1112, Val Acc: 0.9695, LR: 0.000200\n",
            "  → New best model saved (val_loss: 0.1112)\n"
          ]
        },
        {
          "output_type": "stream",
          "name": "stderr",
          "text": [
            "Epoch 33 - Training: 100%|██████████| 291/291 [00:07<00:00, 39.91it/s]\n"
          ]
        },
        {
          "output_type": "stream",
          "name": "stdout",
          "text": [
            "Epoch 33: Train Loss: 0.1372, Train Acc: 0.9644, Val Loss: 0.1139, Val Acc: 0.9700, LR: 0.000200\n"
          ]
        },
        {
          "output_type": "stream",
          "name": "stderr",
          "text": [
            "Epoch 34 - Training: 100%|██████████| 291/291 [00:07<00:00, 39.37it/s]\n"
          ]
        },
        {
          "output_type": "stream",
          "name": "stdout",
          "text": [
            "Epoch 34: Train Loss: 0.1367, Train Acc: 0.9647, Val Loss: 0.1122, Val Acc: 0.9664, LR: 0.000200\n"
          ]
        },
        {
          "output_type": "stream",
          "name": "stderr",
          "text": [
            "Epoch 35 - Training: 100%|██████████| 291/291 [00:06<00:00, 42.02it/s]\n"
          ]
        },
        {
          "output_type": "stream",
          "name": "stdout",
          "text": [
            "Epoch 35: Train Loss: 0.1357, Train Acc: 0.9643, Val Loss: 0.1098, Val Acc: 0.9695, LR: 0.000200\n",
            "  → New best model saved (val_loss: 0.1098)\n"
          ]
        },
        {
          "output_type": "stream",
          "name": "stderr",
          "text": [
            "Epoch 36 - Training: 100%|██████████| 291/291 [00:07<00:00, 39.64it/s]\n"
          ]
        },
        {
          "output_type": "stream",
          "name": "stdout",
          "text": [
            "Epoch 36: Train Loss: 0.1379, Train Acc: 0.9643, Val Loss: 0.1091, Val Acc: 0.9699, LR: 0.000200\n",
            "  → New best model saved (val_loss: 0.1091)\n"
          ]
        },
        {
          "output_type": "stream",
          "name": "stderr",
          "text": [
            "Epoch 37 - Training: 100%|██████████| 291/291 [00:07<00:00, 39.86it/s]\n"
          ]
        },
        {
          "output_type": "stream",
          "name": "stdout",
          "text": [
            "Epoch 37: Train Loss: 0.1369, Train Acc: 0.9646, Val Loss: 0.1094, Val Acc: 0.9682, LR: 0.000200\n"
          ]
        },
        {
          "output_type": "stream",
          "name": "stderr",
          "text": [
            "Epoch 38 - Training: 100%|██████████| 291/291 [00:06<00:00, 42.27it/s]\n"
          ]
        },
        {
          "output_type": "stream",
          "name": "stdout",
          "text": [
            "Epoch 38: Train Loss: 0.1364, Train Acc: 0.9647, Val Loss: 0.1089, Val Acc: 0.9716, LR: 0.000200\n",
            "  → New best model saved (val_loss: 0.1089)\n"
          ]
        },
        {
          "output_type": "stream",
          "name": "stderr",
          "text": [
            "Epoch 39 - Training: 100%|██████████| 291/291 [00:07<00:00, 39.59it/s]\n"
          ]
        },
        {
          "output_type": "stream",
          "name": "stdout",
          "text": [
            "Epoch 39: Train Loss: 0.1362, Train Acc: 0.9649, Val Loss: 0.1120, Val Acc: 0.9692, LR: 0.000200\n"
          ]
        },
        {
          "output_type": "stream",
          "name": "stderr",
          "text": [
            "Epoch 40 - Training: 100%|██████████| 291/291 [00:07<00:00, 40.75it/s]\n"
          ]
        },
        {
          "output_type": "stream",
          "name": "stdout",
          "text": [
            "Epoch 40: Train Loss: 0.1338, Train Acc: 0.9652, Val Loss: 0.1101, Val Acc: 0.9690, LR: 0.000200\n"
          ]
        },
        {
          "output_type": "stream",
          "name": "stderr",
          "text": [
            "Epoch 41 - Training: 100%|██████████| 291/291 [00:06<00:00, 41.85it/s]\n"
          ]
        },
        {
          "output_type": "stream",
          "name": "stdout",
          "text": [
            "Epoch 41: Train Loss: 0.1337, Train Acc: 0.9653, Val Loss: 0.1092, Val Acc: 0.9704, LR: 0.000200\n"
          ]
        },
        {
          "output_type": "stream",
          "name": "stderr",
          "text": [
            "Epoch 42 - Training: 100%|██████████| 291/291 [00:07<00:00, 39.59it/s]\n"
          ]
        },
        {
          "output_type": "stream",
          "name": "stdout",
          "text": [
            "Epoch 42: Train Loss: 0.1365, Train Acc: 0.9648, Val Loss: 0.1074, Val Acc: 0.9679, LR: 0.000200\n",
            "  → New best model saved (val_loss: 0.1074)\n"
          ]
        },
        {
          "output_type": "stream",
          "name": "stderr",
          "text": [
            "Epoch 43 - Training: 100%|██████████| 291/291 [00:07<00:00, 41.12it/s]\n"
          ]
        },
        {
          "output_type": "stream",
          "name": "stdout",
          "text": [
            "Epoch 43: Train Loss: 0.1341, Train Acc: 0.9648, Val Loss: 0.1070, Val Acc: 0.9707, LR: 0.000200\n",
            "  → New best model saved (val_loss: 0.1070)\n"
          ]
        },
        {
          "output_type": "stream",
          "name": "stderr",
          "text": [
            "Epoch 44 - Training: 100%|██████████| 291/291 [00:06<00:00, 42.14it/s]\n"
          ]
        },
        {
          "output_type": "stream",
          "name": "stdout",
          "text": [
            "Epoch 44: Train Loss: 0.1341, Train Acc: 0.9655, Val Loss: 0.1082, Val Acc: 0.9707, LR: 0.000200\n"
          ]
        },
        {
          "output_type": "stream",
          "name": "stderr",
          "text": [
            "Epoch 45 - Training: 100%|██████████| 291/291 [00:07<00:00, 39.59it/s]\n"
          ]
        },
        {
          "output_type": "stream",
          "name": "stdout",
          "text": [
            "Epoch 45: Train Loss: 0.1313, Train Acc: 0.9654, Val Loss: 0.1078, Val Acc: 0.9711, LR: 0.000200\n"
          ]
        },
        {
          "output_type": "stream",
          "name": "stderr",
          "text": [
            "Epoch 46 - Training: 100%|██████████| 291/291 [00:06<00:00, 42.40it/s]\n"
          ]
        },
        {
          "output_type": "stream",
          "name": "stdout",
          "text": [
            "Epoch 46: Train Loss: 0.1351, Train Acc: 0.9652, Val Loss: 0.1071, Val Acc: 0.9699, LR: 0.000200\n"
          ]
        },
        {
          "output_type": "stream",
          "name": "stderr",
          "text": [
            "Epoch 47 - Training: 100%|██████████| 291/291 [00:07<00:00, 40.62it/s]\n"
          ]
        },
        {
          "output_type": "stream",
          "name": "stdout",
          "text": [
            "Epoch 47: Train Loss: 0.1331, Train Acc: 0.9654, Val Loss: 0.1065, Val Acc: 0.9712, LR: 0.000200\n",
            "  → New best model saved (val_loss: 0.1065)\n"
          ]
        },
        {
          "output_type": "stream",
          "name": "stderr",
          "text": [
            "Epoch 48 - Training: 100%|██████████| 291/291 [00:07<00:00, 39.89it/s]\n"
          ]
        },
        {
          "output_type": "stream",
          "name": "stdout",
          "text": [
            "Epoch 48: Train Loss: 0.1321, Train Acc: 0.9656, Val Loss: 0.1089, Val Acc: 0.9673, LR: 0.000200\n"
          ]
        },
        {
          "output_type": "stream",
          "name": "stderr",
          "text": [
            "Epoch 49 - Training: 100%|██████████| 291/291 [00:06<00:00, 41.82it/s]\n"
          ]
        },
        {
          "output_type": "stream",
          "name": "stdout",
          "text": [
            "Epoch 49: Train Loss: 0.1321, Train Acc: 0.9657, Val Loss: 0.1061, Val Acc: 0.9701, LR: 0.000200\n",
            "  → New best model saved (val_loss: 0.1061)\n"
          ]
        },
        {
          "output_type": "stream",
          "name": "stderr",
          "text": [
            "Epoch 50 - Training: 100%|██████████| 291/291 [00:07<00:00, 39.98it/s]\n"
          ]
        },
        {
          "output_type": "stream",
          "name": "stdout",
          "text": [
            "Epoch 50: Train Loss: 0.1321, Train Acc: 0.9658, Val Loss: 0.1080, Val Acc: 0.9681, LR: 0.000200\n",
            "Training complete. Best model loaded.\n",
            "Plotting enhanced training history...\n"
          ]
        },
        {
          "output_type": "display_data",
          "data": {
            "text/plain": [
              "<Figure size 1500x1000 with 4 Axes>"
            ],
            "image/png": "[encoded data removed]"
          },
          "metadata": {}
        },
        {
          "output_type": "stream",
          "name": "stdout",
          "text": [
            "Evaluating...\n"
          ]
        },
        {
          "output_type": "stream",
          "name": "stderr",
          "text": [
            "Evaluating test images: 100%|██████████| 89/89 [00:11<00:00,  8.01it/s]\n"
          ]
        },
        {
          "output_type": "stream",
          "name": "stdout",
          "text": [
            "Results:\n",
            "  mIoU: 0.3267956669074808\n",
            "  precision: 0.47557166430928804\n",
            "  recall: 0.4944773810070929\n",
            "  f1: 0.4848402917032798\n",
            "  num_images: 89\n"
          ]
        }
      ],
      "source": [
        "import numpy as np\n",
        "import cv2\n",
        "import torch\n",
        "import torch.nn as nn\n",
        "import torch.nn.functional as F\n",
        "import torch.optim as optim\n",
        "from torch.utils.data import Dataset, DataLoader\n",
        "from sklearn.model_selection import train_test_split\n",
        "from sklearn.metrics import precision_recall_fscore_support\n",
        "import matplotlib.pyplot as plt\n",
        "from typing import List, Tuple, Dict\n",
        "import os\n",
        "from tqdm import tqdm\n",
        "import random\n",
        "from glob import glob\n",
        "\n",
        "\n",
        "class EnhancedFeatureExtractor:\n",
        "    @staticmethod\n",
        "    def extract_features(four_band_image: np.ndarray) -> np.ndarray:\n",
        "        \"\"\"\n",
        "        Args:\n",
        "            four_band_image: numpy array (H, W, 4) in [NIR, R, G, B] order\n",
        "        Returns:\n",
        "            Feature array (H, W, 8)\n",
        "        \"\"\"\n",
        "        # Normalize to [0,1] and clip to valid range\n",
        "        NIR = np.clip(four_band_image[..., 0] / 255.0, 0, 1)\n",
        "        R   = np.clip(four_band_image[..., 1] / 255.0, 0, 1)\n",
        "        G   = np.clip(four_band_image[..., 2] / 255.0, 0, 1)\n",
        "        B   = np.clip(four_band_image[..., 3] / 255.0, 0, 1)\n",
        "\n",
        "        # Basic bands\n",
        "        features = [R, G, B, NIR]\n",
        "\n",
        "        # Vegetation indices with NaN protection\n",
        "        # NDVI\n",
        "        ndvi_denom = NIR + R + 1e-8\n",
        "        NDVI = np.where(ndvi_denom > 0, (NIR - R) / ndvi_denom, 0)\n",
        "\n",
        "        # EVI - more complex, needs careful handling\n",
        "        evi_denom = NIR + 6 * R - 7.5 * B + 1\n",
        "        EVI = np.where(evi_denom != 0, 2.5 * (NIR - R) / evi_denom, 0)\n",
        "        EVI = np.clip(EVI, -1, 1)  # EVI typically ranges from -1 to 1\n",
        "\n",
        "        # SAVI\n",
        "        savi_denom = NIR + R + 0.5\n",
        "        SAVI = np.where(savi_denom > 0, 1.5 * (NIR - R) / savi_denom, 0)\n",
        "\n",
        "        # GNDVI\n",
        "        gndvi_denom = NIR + G + 1e-8\n",
        "        GNDVI = np.where(gndvi_denom > 0, (NIR - G) / gndvi_denom, 0)\n",
        "\n",
        "        features.extend([NDVI, EVI, SAVI, GNDVI])\n",
        "\n",
        "        # Stack and ensure no NaN/inf values\n",
        "        result = np.stack(features, axis=-1).astype(np.float32)\n",
        "        result = np.nan_to_num(result, nan=0.0, posinf=1.0, neginf=-1.0)\n",
        "\n",
        "        return result\n",
        "\n",
        "\n",
        "class DeadTreeDataset(Dataset):\n",
        "    \"\"\"Patch-based dataset for dead tree detection\"\"\"\n",
        "    def __init__(self, patches: List[torch.Tensor], labels: List[torch.Tensor], augment: bool = False):\n",
        "        self.patches = patches\n",
        "        self.labels = labels\n",
        "        self.augment = augment\n",
        "\n",
        "    def __len__(self) -> int:\n",
        "        return len(self.patches)\n",
        "\n",
        "    def __getitem__(self, idx: int) -> Tuple[torch.Tensor, torch.Tensor]:\n",
        "        patch = self.patches[idx]\n",
        "        label = self.labels[idx]\n",
        "\n",
        "        if self.augment:\n",
        "            # Random flips\n",
        "            if random.random() > 0.5:\n",
        "                patch = torch.flip(patch, dims=[2])\n",
        "                label = torch.flip(label, dims=[2])\n",
        "            if random.random() > 0.5:\n",
        "                patch = torch.flip(patch, dims=[1])\n",
        "                label = torch.flip(label, dims=[1])\n",
        "\n",
        "            # Random rotation (90 degree increments)\n",
        "            if random.random() > 0.5:\n",
        "                k = random.randint(1, 3)\n",
        "                patch = torch.rot90(patch, k, dims=[1, 2])\n",
        "                label = torch.rot90(label, k, dims=[1, 2])\n",
        "\n",
        "        return patch, label\n",
        "\n",
        "\n",
        "class ImprovedSpatialDeadTreeCNN(nn.Module):\n",
        "    \"\"\"U-Net style CNN with dropout regularization for dead tree detection\"\"\"\n",
        "    def __init__(self, input_channels: int = 8, dropout_rate: float = 0.3):\n",
        "        super().__init__()\n",
        "        self.dropout_rate = dropout_rate\n",
        "\n",
        "        # Encoder with dropout\n",
        "        self.enc1 = self._conv_block(input_channels, 32, dropout_rate)\n",
        "        self.enc2 = self._conv_block(32, 64, dropout_rate)\n",
        "        self.enc3 = self._conv_block(64, 128, dropout_rate)\n",
        "        self.enc4 = self._conv_block(128, 256, dropout_rate)\n",
        "\n",
        "        # Bottleneck with higher dropout\n",
        "        self.bottleneck = self._conv_block(256, 512, dropout_rate * 1.5)\n",
        "\n",
        "        # Decoder with dropout\n",
        "        self.up4 = nn.ConvTranspose2d(512, 256, kernel_size=2, stride=2)\n",
        "        self.dec4 = self._conv_block(512, 256, dropout_rate * 0.7)  # Slightly less dropout in decoder\n",
        "\n",
        "        self.up3 = nn.ConvTranspose2d(256, 128, 2, 2)\n",
        "        self.dec3 = self._conv_block(256, 128, dropout_rate * 0.7)\n",
        "\n",
        "        self.up2 = nn.ConvTranspose2d(128, 64, 2, 2)\n",
        "        self.dec2 = self._conv_block(128, 64, dropout_rate * 0.5)\n",
        "\n",
        "        self.up1 = nn.ConvTranspose2d(64, 32, 2, 2)\n",
        "        self.dec1 = self._conv_block(64, 32, dropout_rate * 0.3)\n",
        "\n",
        "        # Final classification layer (no dropout)\n",
        "        self.final = nn.Conv2d(32, 1, kernel_size=1)\n",
        "\n",
        "        # Initialize weights\n",
        "        self._initialize_weights()\n",
        "\n",
        "    def _conv_block(self, in_ch: int, out_ch: int, dropout_rate: float = 0.0) -> nn.Sequential:\n",
        "        \"\"\"Convolutional block with dropout\"\"\"\n",
        "        layers = [\n",
        "            nn.Conv2d(in_ch, out_ch, kernel_size=3, padding=1),\n",
        "            nn.BatchNorm2d(out_ch),\n",
        "            nn.ReLU(inplace=True),\n",
        "        ]\n",
        "\n",
        "        # Add dropout if specified\n",
        "        if dropout_rate > 0:\n",
        "            layers.append(nn.Dropout2d(dropout_rate))\n",
        "\n",
        "        layers.extend([\n",
        "            nn.Conv2d(out_ch, out_ch, 3, padding=1),\n",
        "            nn.BatchNorm2d(out_ch),\n",
        "            nn.ReLU(inplace=True)\n",
        "        ])\n",
        "\n",
        "        # Add dropout after second conv as well\n",
        "        if dropout_rate > 0:\n",
        "            layers.append(nn.Dropout2d(dropout_rate))\n",
        "\n",
        "        return nn.Sequential(*layers)\n",
        "\n",
        "    def _initialize_weights(self):\n",
        "        \"\"\"Initialize weights using He initialization\"\"\"\n",
        "        for m in self.modules():\n",
        "            if isinstance(m, nn.Conv2d):\n",
        "                nn.init.kaiming_normal_(m.weight, mode='fan_out', nonlinearity='relu')\n",
        "                if m.bias is not None:\n",
        "                    nn.init.constant_(m.bias, 0)\n",
        "            elif isinstance(m, nn.BatchNorm2d):\n",
        "                nn.init.constant_(m.weight, 1)\n",
        "                nn.init.constant_(m.bias, 0)\n",
        "\n",
        "    def forward(self, x: torch.Tensor) -> torch.Tensor:\n",
        "        # Encoder path\n",
        "        e1 = self.enc1(x)\n",
        "        e2 = self.enc2(F.max_pool2d(e1, 2))\n",
        "        e3 = self.enc3(F.max_pool2d(e2, 2))\n",
        "        e4 = self.enc4(F.max_pool2d(e3, 2))\n",
        "\n",
        "        # Bottleneck\n",
        "        bottleneck = self.bottleneck(F.max_pool2d(e4, 2))\n",
        "\n",
        "        # Decoder path with skip connections\n",
        "        d4 = self.up4(bottleneck)\n",
        "        d4 = self.dec4(torch.cat([d4, e4], dim=1))\n",
        "\n",
        "        d3 = self.up3(d4)\n",
        "        d3 = self.dec3(torch.cat([d3, e3], dim=1))\n",
        "\n",
        "        d2 = self.up2(d3)\n",
        "        d2 = self.dec2(torch.cat([d2, e2], dim=1))\n",
        "\n",
        "        d1 = self.up1(d2)\n",
        "        d1 = self.dec1(torch.cat([d1, e1], dim=1))\n",
        "\n",
        "        # Output raw logits (no sigmoid)\n",
        "        return self.final(d1)\n",
        "\n",
        "\n",
        "class DeadTreeCNNTrainer:\n",
        "    \"\"\"Enhanced training & evaluation pipeline with better regularization\"\"\"\n",
        "    def __init__(self, model: nn.Module, device: str = None):\n",
        "        self.device = device or ('cuda' if torch.cuda.is_available() else 'cpu')\n",
        "        self.model = model.to(self.device)\n",
        "\n",
        "        # Focal loss for handling class imbalance better\n",
        "        self.criterion = nn.BCEWithLogitsLoss(pos_weight=torch.tensor([2.0]).to(self.device))\n",
        "\n",
        "        # Enhanced optimizer with better regularization\n",
        "        self.optimizer = optim.AdamW(\n",
        "            self.model.parameters(),\n",
        "            lr=2e-4,  # Lower learning rate\n",
        "            weight_decay=1e-4,  # Stronger weight decay\n",
        "            betas=(0.9, 0.999)\n",
        "        )\n",
        "\n",
        "        # More aggressive learning rate scheduling\n",
        "        self.scheduler = optim.lr_scheduler.ReduceLROnPlateau(\n",
        "            self.optimizer, mode='min', patience=5, factor=0.3, verbose=True\n",
        "        )\n",
        "\n",
        "        self.history = {\n",
        "            'train_loss': [], 'val_loss': [],\n",
        "            'train_acc': [], 'val_acc': [],\n",
        "            'learning_rate': []\n",
        "        }\n",
        "\n",
        "    def extract_patches_from_images(\n",
        "        self, image_indices: List[int], rgb_paths: List[str], nrg_paths: List[str],\n",
        "        mask_paths: List[str], patch_size: int = 64, stride: int = 32, downsample: int = 2\n",
        "    ) -> Tuple[List[torch.Tensor], List[torch.Tensor]]:\n",
        "        patches, labels = [], []\n",
        "        stats = {'total':0,'positive':0,'negative':0}\n",
        "\n",
        "        for idx in tqdm(image_indices, desc=\"Extracting patches\"):\n",
        "            # Note: merge_rgb_nrg_to_4band function needs to be defined\n",
        "            four_band = merge_rgb_nrg_to_4band(rgb_paths[idx], nrg_paths[idx], downsample)\n",
        "            features = EnhancedFeatureExtractor.extract_features(four_band)\n",
        "            mask = cv2.imread(mask_paths[idx], cv2.IMREAD_GRAYSCALE)\n",
        "            mask = mask[::downsample, ::downsample]\n",
        "            binary = (mask > 127).astype(np.float32)\n",
        "\n",
        "            h, w = binary.shape\n",
        "            for y in range(0, h - patch_size + 1, stride):\n",
        "                for x in range(0, w - patch_size + 1, stride):\n",
        "                    f_patch = features[y:y+patch_size, x:x+patch_size]\n",
        "                    l_patch = binary[y:y+patch_size, x:x+patch_size]\n",
        "                    t_feat = torch.tensor(f_patch).permute(2,0,1)\n",
        "                    t_lab  = torch.tensor(l_patch).unsqueeze(0)\n",
        "                    ratio = (t_lab>0.5).float().mean()\n",
        "                    patches.append(t_feat)\n",
        "                    labels.append(t_lab)\n",
        "                    stats['total'] += 1\n",
        "                    stats['positive' if ratio>0.05 else 'negative'] += 1\n",
        "\n",
        "        print(f\"Total patches: {stats['total']} (pos: {stats['positive']}, neg: {stats['negative']})\")\n",
        "        return patches, labels\n",
        "\n",
        "    def balance_patches(\n",
        "        self, patches: List[torch.Tensor], labels: List[torch.Tensor], max_negative_ratio: float = 2.0\n",
        "    ) -> Tuple[List[torch.Tensor], List[torch.Tensor]]:\n",
        "        \"\"\"More aggressive balancing to reduce overfitting\"\"\"\n",
        "        pos, neg = [], []\n",
        "        for p,l in zip(patches, labels):\n",
        "            if (l>0.5).float().mean() > 0.05:\n",
        "                pos.append((p,l))\n",
        "            else:\n",
        "                neg.append((p,l))\n",
        "\n",
        "        max_neg = int(len(pos) * max_negative_ratio)\n",
        "        if len(neg) > max_neg:\n",
        "            neg = random.sample(neg, max_neg)\n",
        "\n",
        "        data = pos + neg\n",
        "        random.shuffle(data)\n",
        "        print(f\"Balanced: {len(data)} (pos: {len(pos)}, neg: {len(neg)})\")\n",
        "        return [d[0] for d in data], [d[1] for d in data]\n",
        "\n",
        "    def calculate_accuracy(self, outputs: torch.Tensor, targets: torch.Tensor) -> float:\n",
        "        \"\"\"Calculate pixel-wise accuracy\"\"\"\n",
        "        with torch.no_grad():\n",
        "            predictions = torch.sigmoid(outputs) > 0.5\n",
        "            correct = (predictions == (targets > 0.5)).float()\n",
        "            return correct.mean().item()\n",
        "\n",
        "    def train(\n",
        "        self, train_patches: List[torch.Tensor], train_labels: List[torch.Tensor],\n",
        "        epochs: int = 50, batch_size: int = 16, validation_split: float = 0.2, patience: int = 10\n",
        "    ) -> None:\n",
        "        # Split data\n",
        "        idx = list(range(len(train_patches)))\n",
        "        tr_idx, val_idx = train_test_split(idx, test_size=validation_split, random_state=42)\n",
        "\n",
        "        train_ds = DeadTreeDataset([train_patches[i] for i in tr_idx], [train_labels[i] for i in tr_idx], augment=True)\n",
        "        val_ds   = DeadTreeDataset([train_patches[i] for i in val_idx], [train_labels[i] for i in val_idx], augment=False)\n",
        "\n",
        "        tr_ld = DataLoader(train_ds, batch_size=batch_size, shuffle=True, num_workers=4, pin_memory=True)\n",
        "        val_ld = DataLoader(val_ds, batch_size=batch_size, shuffle=False, num_workers=4, pin_memory=True)\n",
        "\n",
        "        best_val_loss = float('inf')\n",
        "        patience_counter = 0\n",
        "\n",
        "        for epoch in range(1, epochs + 1):\n",
        "            # Training phase\n",
        "            self.model.train()\n",
        "            train_loss = 0.0\n",
        "            train_acc = 0.0\n",
        "            train_batches = 0\n",
        "\n",
        "            for xb, yb in tqdm(tr_ld, desc=f\"Epoch {epoch} - Training\"):\n",
        "                xb, yb = xb.to(self.device), yb.to(self.device)\n",
        "\n",
        "                self.optimizer.zero_grad()\n",
        "                logits = self.model(xb)\n",
        "                loss = self.criterion(logits, yb)\n",
        "                loss.backward()\n",
        "\n",
        "                # Gradient clipping to prevent exploding gradients\n",
        "                torch.nn.utils.clip_grad_norm_(self.model.parameters(), max_norm=1.0)\n",
        "\n",
        "                self.optimizer.step()\n",
        "\n",
        "                train_loss += loss.item()\n",
        "                train_acc += self.calculate_accuracy(logits, yb)\n",
        "                train_batches += 1\n",
        "\n",
        "            # Validation phase\n",
        "            self.model.eval()\n",
        "            val_loss = 0.0\n",
        "            val_acc = 0.0\n",
        "            val_batches = 0\n",
        "\n",
        "            with torch.no_grad():\n",
        "                for xb, yb in val_ld:\n",
        "                    xb, yb = xb.to(self.device), yb.to(self.device)\n",
        "                    logits = self.model(xb)\n",
        "                    loss = self.criterion(logits, yb)\n",
        "\n",
        "                    val_loss += loss.item()\n",
        "                    val_acc += self.calculate_accuracy(logits, yb)\n",
        "                    val_batches += 1\n",
        "\n",
        "            # Calculate averages\n",
        "            train_loss /= train_batches\n",
        "            train_acc /= train_batches\n",
        "            val_loss /= val_batches\n",
        "            val_acc /= val_batches\n",
        "\n",
        "            # Store history\n",
        "            self.history['train_loss'].append(train_loss)\n",
        "            self.history['val_loss'].append(val_loss)\n",
        "            self.history['train_acc'].append(train_acc)\n",
        "            self.history['val_acc'].append(val_acc)\n",
        "            self.history['learning_rate'].append(self.optimizer.param_groups[0]['lr'])\n",
        "\n",
        "            print(f\"Epoch {epoch}: Train Loss: {train_loss:.4f}, Train Acc: {train_acc:.4f}, \"\n",
        "                  f\"Val Loss: {val_loss:.4f}, Val Acc: {val_acc:.4f}, LR: {self.optimizer.param_groups[0]['lr']:.6f}\")\n",
        "\n",
        "            # Learning rate scheduling\n",
        "            self.scheduler.step(val_loss)\n",
        "\n",
        "            # Early stopping\n",
        "            if val_loss < best_val_loss:\n",
        "                best_val_loss = val_loss\n",
        "                patience_counter = 0\n",
        "                torch.save(self.model.state_dict(), 'best_dead_tree_model.pth')\n",
        "                print(f\"  → New best model saved (val_loss: {val_loss:.4f})\")\n",
        "            else:\n",
        "                patience_counter += 1\n",
        "                if patience_counter >= patience:\n",
        "                    print(f\"Early stopping triggered after {epoch} epochs\")\n",
        "                    break\n",
        "\n",
        "        # Load best model\n",
        "        self.model.load_state_dict(torch.load('best_dead_tree_model.pth'))\n",
        "        print(\"Training complete. Best model loaded.\")\n",
        "\n",
        "    def predict_image(\n",
        "        self, rgb_path: str, nrg_path: str, patch_size: int = 64,\n",
        "        stride: int = 32, downsample: int = 2\n",
        "    ) -> np.ndarray:\n",
        "        # Note: merge_rgb_nrg_to_4band function needs to be defined\n",
        "        four = merge_rgb_nrg_to_4band(rgb_path, nrg_path, downsample)\n",
        "        feats = EnhancedFeatureExtractor.extract_features(four)\n",
        "        h, w, _ = feats.shape\n",
        "        pred = np.zeros((h, w), dtype=np.float32)\n",
        "        cnt = np.zeros_like(pred)\n",
        "\n",
        "        self.model.eval()\n",
        "        with torch.no_grad():\n",
        "            for y in range(0, h - patch_size + 1, stride):\n",
        "                for x in range(0, w - patch_size + 1, stride):\n",
        "                    p = feats[y:y+patch_size, x:x+patch_size]\n",
        "                    t = torch.tensor(p).permute(2,0,1).unsqueeze(0).float().to(self.device)\n",
        "                    logits = self.model(t)\n",
        "                    probs = torch.sigmoid(logits).cpu().numpy()[0,0]\n",
        "                    pred[y:y+patch_size, x:x+patch_size] += probs\n",
        "                    cnt[y:y+patch_size, x:x+patch_size] += 1\n",
        "\n",
        "        return pred / (cnt + 1e-8)\n",
        "\n",
        "    def plot_training_history(self) -> None:\n",
        "        \"\"\"Enhanced plotting with accuracy curves\"\"\"\n",
        "        fig, ((ax1, ax2), (ax3, ax4)) = plt.subplots(2, 2, figsize=(15, 10))\n",
        "\n",
        "        # Loss curves\n",
        "        ax1.plot(self.history['train_loss'], label='Train Loss', color='blue')\n",
        "        ax1.plot(self.history['val_loss'], label='Val Loss', color='red')\n",
        "        ax1.set_xlabel('Epoch')\n",
        "        ax1.set_ylabel('Loss')\n",
        "        ax1.set_title('Training & Validation Loss')\n",
        "        ax1.legend()\n",
        "        ax1.grid(True)\n",
        "\n",
        "        # Accuracy curves\n",
        "        ax2.plot(self.history['train_acc'], label='Train Acc', color='blue')\n",
        "        ax2.plot(self.history['val_acc'], label='Val Acc', color='red')\n",
        "        ax2.set_xlabel('Epoch')\n",
        "        ax2.set_ylabel('Accuracy')\n",
        "        ax2.set_title('Training & Validation Accuracy')\n",
        "        ax2.legend()\n",
        "        ax2.grid(True)\n",
        "\n",
        "        # Learning rate\n",
        "        ax3.plot(self.history['learning_rate'], color='green')\n",
        "        ax3.set_xlabel('Epoch')\n",
        "        ax3.set_ylabel('Learning Rate')\n",
        "        ax3.set_title('Learning Rate Schedule')\n",
        "        ax3.set_yscale('log')\n",
        "        ax3.grid(True)\n",
        "\n",
        "        # Loss difference (overfitting indicator)\n",
        "        loss_diff = np.array(self.history['val_loss']) - np.array(self.history['train_loss'])\n",
        "        ax4.plot(loss_diff, color='orange')\n",
        "        ax4.set_xlabel('Epoch')\n",
        "        ax4.set_ylabel('Val Loss - Train Loss')\n",
        "        ax4.set_title('Overfitting Indicator')\n",
        "        ax4.axhline(y=0, color='black', linestyle='--', alpha=0.3)\n",
        "        ax4.grid(True)\n",
        "\n",
        "        plt.tight_layout()\n",
        "        plt.show()\n",
        "\n",
        "\n",
        "# Helper function (you'll need to implement this based on your data format)\n",
        "def merge_rgb_nrg_to_4band(rgb_path: str, nrg_path: str, downsample: int = 2) -> np.ndarray:\n",
        "    \"\"\"\n",
        "    Merge RGB and NRG images to create 4-band image\n",
        "    This is a placeholder - implement based on your specific data format\n",
        "    \"\"\"\n",
        "    rgb = cv2.imread(rgb_path)[::downsample, ::downsample]\n",
        "    nrg = cv2.imread(nrg_path)[::downsample, ::downsample]\n",
        "\n",
        "    # Assuming NRG format is [NIR, R, G] and RGB is [B, G, R]\n",
        "    # Create [NIR, R, G, B] format\n",
        "    nir = nrg[:, :, 0]\n",
        "    r = nrg[:, :, 1]\n",
        "    g = nrg[:, :, 2]\n",
        "    b = rgb[:, :, 0]\n",
        "\n",
        "    four_band = np.stack([nir, r, g, b], axis=-1)\n",
        "    return four_band\n",
        "\n",
        "\n",
        "def evaluate_cnn_model(\n",
        "    trainer: DeadTreeCNNTrainer, test_idx: List[int],\n",
        "    rgb_paths: List[str], nrg_paths: List[str], mask_paths: List[str],\n",
        "    downsample: int = 2, threshold: float = 0.5\n",
        ") -> Dict[str, float]:\n",
        "    \"\"\"Compute mIoU, precision, recall, F1 for test images\"\"\"\n",
        "    def iou(a, b):\n",
        "        return np.logical_and(a, b).sum() / (np.logical_or(a, b).sum() + 1e-8)\n",
        "\n",
        "    ious = []\n",
        "    t_true = []\n",
        "    t_pred = []\n",
        "\n",
        "    for i in tqdm(test_idx, desc=\"Evaluating test images\"):\n",
        "        mask = cv2.imread(mask_paths[i], cv2.IMREAD_GRAYSCALE)[::downsample, ::downsample]\n",
        "        truth = (mask > 127).astype(np.uint8)\n",
        "        pred = trainer.predict_image(rgb_paths[i], nrg_paths[i], downsample=downsample)\n",
        "        binp = (pred > threshold).astype(np.uint8)\n",
        "        ious.append(iou(binp, truth))\n",
        "        t_true.extend(truth.flatten())\n",
        "        t_pred.extend(binp.flatten())\n",
        "\n",
        "    t_true = np.array(t_true)\n",
        "    t_pred = np.array(t_pred)\n",
        "    miou = float(np.mean(ious))\n",
        "    p, r, f, _ = precision_recall_fscore_support(t_true, t_pred, labels=[0, 1], average=None, zero_division=0)\n",
        "\n",
        "    return {\n",
        "        'mIoU': miou,\n",
        "        'precision': float(p[1]),\n",
        "        'recall': float(r[1]),\n",
        "        'f1': float(f[1]),\n",
        "        'num_images': len(test_idx)\n",
        "    }\n",
        "\n",
        "\n",
        "def run_complete_pipeline(\n",
        "    rgb_paths: List[str], nrg_paths: List[str], mask_paths: List[str],\n",
        "    train_idx: List[int], test_idx: List[int]\n",
        ") -> Tuple[DeadTreeCNNTrainer, Dict[str, float]]:\n",
        "    print(\"Creating improved model with dropout...\")\n",
        "    model = ImprovedSpatialDeadTreeCNN(input_channels=8, dropout_rate=0.3)\n",
        "    trainer = DeadTreeCNNTrainer(model)\n",
        "\n",
        "    print(\"Extracting training patches...\")\n",
        "    tp, tl = trainer.extract_patches_from_images(train_idx, rgb_paths, nrg_paths, mask_paths)\n",
        "\n",
        "    print(\"Balancing...\")\n",
        "    bp, bl = trainer.balance_patches(tp, tl)\n",
        "\n",
        "    print(\"Training with enhanced regularization...\")\n",
        "    trainer.train(bp, bl, epochs=50, batch_size=8, patience=10)\n",
        "\n",
        "    print(\"Plotting enhanced training history...\")\n",
        "    trainer.plot_training_history()\n",
        "\n",
        "    print(\"Evaluating...\")\n",
        "    results = evaluate_cnn_model(trainer, test_idx, rgb_paths, nrg_paths, mask_paths)\n",
        "\n",
        "    print(\"Results:\")\n",
        "    for k, v in results.items():\n",
        "        print(f\"  {k}: {v}\")\n",
        "\n",
        "    return trainer, results\n",
        "\n",
        "\n",
        "# Usage example:\n",
        "if __name__ == \"__main__\":\n",
        "    trainer, results = run_complete_pipeline(rgb_paths, nrg_paths, mask_paths, train_idx, test_idx)"
      ]
    }
  ],
  "metadata": {
    "accelerator": "GPU",
    "colab": {
      "gpuType": "T4",
      "provenance": []
    },
    "kernelspec": {
      "display_name": "Python 3",
      "name": "python3"
    },
    "language_info": {
      "name": "python"
    }
  },
  "nbformat": 4,
  "nbformat_minor": 0
}