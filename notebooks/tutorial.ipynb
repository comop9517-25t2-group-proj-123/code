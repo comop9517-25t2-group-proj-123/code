{
 "cells": [
  {
   "cell_type": "code",
   "execution_count": 6,
   "id": "c6d001cd",
   "metadata": {},
   "outputs": [
    {
     "name": "stdout",
     "output_type": "stream",
     "text": [
      "Saved combined image as combined_visualization.png\n"
     ]
    }
   ],
   "source": [
    "from PIL import Image\n",
    "import os\n",
    "\n",
    "# Directory containing images\n",
    "img_dir = '../output/visualizations'\n",
    "img_files = [f'sample_{i:02d}.png' for i in range(1, 6)]\n",
    "\n",
    "# Load images and crop out the top 40 pixels (adjust as needed to remove text)\n",
    "cropped_imgs = []\n",
    "for fname in img_files:\n",
    "    path = os.path.join(img_dir, fname)\n",
    "    img = Image.open(path)\n",
    "    # Crop: (left, upper, right, lower)\n",
    "    # Remove top 40 pixels (change 40 if needed)\n",
    "    cropped = img.crop((0, 40, img.width, img.height))\n",
    "    cropped_imgs.append(cropped)\n",
    "\n",
    "# Calculate final image size\n",
    "total_height = sum(im.height for im in cropped_imgs)\n",
    "max_width = max(im.width for im in cropped_imgs)\n",
    "\n",
    "# Create new blank image\n",
    "combined = Image.new('RGB', (max_width, total_height))\n",
    "\n",
    "# Paste images one below the other\n",
    "y_offset = 0\n",
    "for im in cropped_imgs:\n",
    "    combined.paste(im, (0, y_offset))\n",
    "    y_offset += im.height\n",
    "\n",
    "# Save combined image\n",
    "combined.save(os.path.join(img_dir, 'combined_visualization.png'))\n",
    "print(\"Saved combined image as combined_visualization.png\")"
   ]
  }
 ],
 "metadata": {
  "kernelspec": {
   "display_name": "Python 3",
   "language": "python",
   "name": "python3"
  },
  "language_info": {
   "codemirror_mode": {
    "name": "ipython",
    "version": 3
   },
   "file_extension": ".py",
   "mimetype": "text/x-python",
   "name": "python",
   "nbconvert_exporter": "python",
   "pygments_lexer": "ipython3",
   "version": "3.9.23"
  }
 },
 "nbformat": 4,
 "nbformat_minor": 5
}
